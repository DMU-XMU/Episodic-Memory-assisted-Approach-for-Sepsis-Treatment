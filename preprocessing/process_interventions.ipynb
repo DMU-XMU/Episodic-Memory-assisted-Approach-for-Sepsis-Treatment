{
 "cells": [
  {
   "cell_type": "code",
   "execution_count": 1,
   "metadata": {},
   "outputs": [],
   "source": [
    "# This notebook takes the input dataset, finds quartiles for the medical interventions (IV in, max vaso in)\n",
    "# for each block.\n",
    "# We then discretise actions in the original dataset according to what bin they fall in, and then save \n",
    "# a new dataframe with the discretised actions."
   ]
  },
  {
   "cell_type": "code",
   "execution_count": 2,
   "metadata": {},
   "outputs": [],
   "source": [
    "%matplotlib inline"
   ]
  },
  {
   "cell_type": "code",
   "execution_count": 2,
   "metadata": {},
   "outputs": [],
   "source": [
    "import numpy as np\n",
    "import pandas as pd\n",
    "import matplotlib.pyplot as plt"
   ]
  },
  {
   "cell_type": "code",
   "execution_count": 3,
   "metadata": {},
   "outputs": [],
   "source": [
    "from pandas import DataFrame"
   ]
  },
  {
   "cell_type": "code",
   "execution_count": 4,
   "metadata": {},
   "outputs": [],
   "source": [
    "orig_data = pd.read_csv(\"../data/MIMICtable.csv\")"
   ]
  },
  {
   "cell_type": "code",
   "execution_count": 5,
   "metadata": {},
   "outputs": [
    {
     "data": {
      "text/html": [
       "<div>\n",
       "<style scoped>\n",
       "    .dataframe tbody tr th:only-of-type {\n",
       "        vertical-align: middle;\n",
       "    }\n",
       "\n",
       "    .dataframe tbody tr th {\n",
       "        vertical-align: top;\n",
       "    }\n",
       "\n",
       "    .dataframe thead th {\n",
       "        text-align: right;\n",
       "    }\n",
       "</style>\n",
       "<table border=\"1\" class=\"dataframe\">\n",
       "  <thead>\n",
       "    <tr style=\"text-align: right;\">\n",
       "      <th></th>\n",
       "      <th>bloc</th>\n",
       "      <th>icustayid</th>\n",
       "      <th>charttime</th>\n",
       "      <th>gender</th>\n",
       "      <th>age</th>\n",
       "      <th>elixhauser</th>\n",
       "      <th>re_admission</th>\n",
       "      <th>died_in_hosp</th>\n",
       "      <th>died_within_48h_of_out_time</th>\n",
       "      <th>mortality_90d</th>\n",
       "      <th>...</th>\n",
       "      <th>PaO2_FiO2</th>\n",
       "      <th>median_dose_vaso</th>\n",
       "      <th>max_dose_vaso</th>\n",
       "      <th>input_total</th>\n",
       "      <th>input_4hourly</th>\n",
       "      <th>output_total</th>\n",
       "      <th>output_4hourly</th>\n",
       "      <th>cumulated_balance</th>\n",
       "      <th>SOFA</th>\n",
       "      <th>SIRS</th>\n",
       "    </tr>\n",
       "  </thead>\n",
       "  <tbody>\n",
       "    <tr>\n",
       "      <th>0</th>\n",
       "      <td>1</td>\n",
       "      <td>3</td>\n",
       "      <td>7245486000</td>\n",
       "      <td>0</td>\n",
       "      <td>17639.826435</td>\n",
       "      <td>0</td>\n",
       "      <td>0</td>\n",
       "      <td>0</td>\n",
       "      <td>0</td>\n",
       "      <td>1</td>\n",
       "      <td>...</td>\n",
       "      <td>279.999989</td>\n",
       "      <td>0.0</td>\n",
       "      <td>0.0</td>\n",
       "      <td>6527.0</td>\n",
       "      <td>50.0</td>\n",
       "      <td>13617.0</td>\n",
       "      <td>520.0</td>\n",
       "      <td>-7090.0</td>\n",
       "      <td>3</td>\n",
       "      <td>1</td>\n",
       "    </tr>\n",
       "    <tr>\n",
       "      <th>1</th>\n",
       "      <td>2</td>\n",
       "      <td>3</td>\n",
       "      <td>7245500400</td>\n",
       "      <td>0</td>\n",
       "      <td>17639.826435</td>\n",
       "      <td>0</td>\n",
       "      <td>0</td>\n",
       "      <td>0</td>\n",
       "      <td>0</td>\n",
       "      <td>1</td>\n",
       "      <td>...</td>\n",
       "      <td>84.000000</td>\n",
       "      <td>0.0</td>\n",
       "      <td>0.0</td>\n",
       "      <td>6577.0</td>\n",
       "      <td>50.0</td>\n",
       "      <td>13982.0</td>\n",
       "      <td>365.0</td>\n",
       "      <td>-7405.0</td>\n",
       "      <td>7</td>\n",
       "      <td>2</td>\n",
       "    </tr>\n",
       "    <tr>\n",
       "      <th>2</th>\n",
       "      <td>3</td>\n",
       "      <td>3</td>\n",
       "      <td>7245514800</td>\n",
       "      <td>0</td>\n",
       "      <td>17639.826435</td>\n",
       "      <td>0</td>\n",
       "      <td>0</td>\n",
       "      <td>0</td>\n",
       "      <td>0</td>\n",
       "      <td>1</td>\n",
       "      <td>...</td>\n",
       "      <td>279.999989</td>\n",
       "      <td>0.0</td>\n",
       "      <td>0.0</td>\n",
       "      <td>6627.0</td>\n",
       "      <td>50.0</td>\n",
       "      <td>14262.0</td>\n",
       "      <td>280.0</td>\n",
       "      <td>-7635.0</td>\n",
       "      <td>5</td>\n",
       "      <td>2</td>\n",
       "    </tr>\n",
       "    <tr>\n",
       "      <th>3</th>\n",
       "      <td>4</td>\n",
       "      <td>3</td>\n",
       "      <td>7245529200</td>\n",
       "      <td>0</td>\n",
       "      <td>17639.826435</td>\n",
       "      <td>0</td>\n",
       "      <td>0</td>\n",
       "      <td>0</td>\n",
       "      <td>0</td>\n",
       "      <td>1</td>\n",
       "      <td>...</td>\n",
       "      <td>279.999989</td>\n",
       "      <td>0.0</td>\n",
       "      <td>0.0</td>\n",
       "      <td>6677.0</td>\n",
       "      <td>50.0</td>\n",
       "      <td>14602.0</td>\n",
       "      <td>340.0</td>\n",
       "      <td>-7925.0</td>\n",
       "      <td>5</td>\n",
       "      <td>1</td>\n",
       "    </tr>\n",
       "    <tr>\n",
       "      <th>4</th>\n",
       "      <td>5</td>\n",
       "      <td>3</td>\n",
       "      <td>7245543600</td>\n",
       "      <td>0</td>\n",
       "      <td>17639.826435</td>\n",
       "      <td>0</td>\n",
       "      <td>0</td>\n",
       "      <td>0</td>\n",
       "      <td>0</td>\n",
       "      <td>1</td>\n",
       "      <td>...</td>\n",
       "      <td>279.999989</td>\n",
       "      <td>0.0</td>\n",
       "      <td>0.0</td>\n",
       "      <td>6727.0</td>\n",
       "      <td>50.0</td>\n",
       "      <td>15142.0</td>\n",
       "      <td>540.0</td>\n",
       "      <td>-8415.0</td>\n",
       "      <td>5</td>\n",
       "      <td>2</td>\n",
       "    </tr>\n",
       "  </tbody>\n",
       "</table>\n",
       "<p>5 rows × 59 columns</p>\n",
       "</div>"
      ],
      "text/plain": [
       "   bloc  icustayid   charttime  gender           age  elixhauser  \\\n",
       "0     1          3  7245486000       0  17639.826435           0   \n",
       "1     2          3  7245500400       0  17639.826435           0   \n",
       "2     3          3  7245514800       0  17639.826435           0   \n",
       "3     4          3  7245529200       0  17639.826435           0   \n",
       "4     5          3  7245543600       0  17639.826435           0   \n",
       "\n",
       "   re_admission  died_in_hosp  died_within_48h_of_out_time  mortality_90d  \\\n",
       "0             0             0                            0              1   \n",
       "1             0             0                            0              1   \n",
       "2             0             0                            0              1   \n",
       "3             0             0                            0              1   \n",
       "4             0             0                            0              1   \n",
       "\n",
       "   ...   PaO2_FiO2  median_dose_vaso  max_dose_vaso  input_total  \\\n",
       "0  ...  279.999989               0.0            0.0       6527.0   \n",
       "1  ...   84.000000               0.0            0.0       6577.0   \n",
       "2  ...  279.999989               0.0            0.0       6627.0   \n",
       "3  ...  279.999989               0.0            0.0       6677.0   \n",
       "4  ...  279.999989               0.0            0.0       6727.0   \n",
       "\n",
       "   input_4hourly  output_total  output_4hourly  cumulated_balance  SOFA  SIRS  \n",
       "0           50.0       13617.0           520.0            -7090.0     3     1  \n",
       "1           50.0       13982.0           365.0            -7405.0     7     2  \n",
       "2           50.0       14262.0           280.0            -7635.0     5     2  \n",
       "3           50.0       14602.0           340.0            -7925.0     5     1  \n",
       "4           50.0       15142.0           540.0            -8415.0     5     2  \n",
       "\n",
       "[5 rows x 59 columns]"
      ]
     },
     "execution_count": 5,
     "metadata": {},
     "output_type": "execute_result"
    }
   ],
   "source": [
    "orig_data.head()"
   ]
  },
  {
   "cell_type": "code",
   "execution_count": 6,
   "metadata": {
    "scrolled": true
   },
   "outputs": [],
   "source": [
    "# # Add an END state to each trajectory. This takes some time, so comment out if already done!\n",
    "# orig_data['END'] = False\n",
    "# new_df = pd.DataFrame(columns=orig_data.columns)\n",
    "# new_idx = 0\n",
    "# for i in orig_data.index:\n",
    "#     if i == 0:\n",
    "#         new_df.loc[new_idx, orig_data.columns] = orig_data.loc[i,:]\n",
    "#         new_idx +=1\n",
    "#         continue\n",
    "#     if orig_data.loc[i, 'icustayid'] != orig_data.loc[i-1, 'icustayid']:\n",
    "#         # new patient; add an end state to the new_df\n",
    "#         new_df.loc[new_idx, orig_data.columns] = np.nan\n",
    "#         new_df.loc[new_idx, 'icustayid'] = new_df.loc[new_idx-1, 'icustayid']\n",
    "#         new_df.loc[new_idx, 'END'] = True\n",
    "#         new_idx += 1\n",
    "#         new_df.loc[new_idx, orig_data.columns] = orig_data.loc[i,:]\n",
    "#         new_idx += 1\n",
    "#     else:\n",
    "#         new_df.loc[new_idx, orig_data.columns] = orig_data.loc[i,:]\n",
    "#         new_idx += 1\n",
    "#     if i % 1000 == 0:\n",
    "#         print i\n",
    "\n",
    "# orig_data = new_df"
   ]
  },
  {
   "cell_type": "code",
   "execution_count": 7,
   "metadata": {},
   "outputs": [],
   "source": [
    "# orig_data.to_csv(\"../data/MKdataset07Feb17.csv\", index=False)"
   ]
  },
  {
   "cell_type": "code",
   "execution_count": 8,
   "metadata": {},
   "outputs": [],
   "source": [
    "# assume we're using input_4hourly and max_dose_vaso as the input params for now\n",
    "interventions = orig_data[[\"max_dose_vaso\", \"input_4hourly\"]]"
   ]
  },
  {
   "cell_type": "code",
   "execution_count": 9,
   "metadata": {},
   "outputs": [
    {
     "data": {
      "text/html": [
       "<div>\n",
       "<style scoped>\n",
       "    .dataframe tbody tr th:only-of-type {\n",
       "        vertical-align: middle;\n",
       "    }\n",
       "\n",
       "    .dataframe tbody tr th {\n",
       "        vertical-align: top;\n",
       "    }\n",
       "\n",
       "    .dataframe thead th {\n",
       "        text-align: right;\n",
       "    }\n",
       "</style>\n",
       "<table border=\"1\" class=\"dataframe\">\n",
       "  <thead>\n",
       "    <tr style=\"text-align: right;\">\n",
       "      <th></th>\n",
       "      <th>max_dose_vaso</th>\n",
       "      <th>input_4hourly</th>\n",
       "    </tr>\n",
       "  </thead>\n",
       "  <tbody>\n",
       "    <tr>\n",
       "      <th>0</th>\n",
       "      <td>0.0</td>\n",
       "      <td>50.0</td>\n",
       "    </tr>\n",
       "    <tr>\n",
       "      <th>1</th>\n",
       "      <td>0.0</td>\n",
       "      <td>50.0</td>\n",
       "    </tr>\n",
       "    <tr>\n",
       "      <th>2</th>\n",
       "      <td>0.0</td>\n",
       "      <td>50.0</td>\n",
       "    </tr>\n",
       "    <tr>\n",
       "      <th>3</th>\n",
       "      <td>0.0</td>\n",
       "      <td>50.0</td>\n",
       "    </tr>\n",
       "    <tr>\n",
       "      <th>4</th>\n",
       "      <td>0.0</td>\n",
       "      <td>50.0</td>\n",
       "    </tr>\n",
       "  </tbody>\n",
       "</table>\n",
       "</div>"
      ],
      "text/plain": [
       "   max_dose_vaso  input_4hourly\n",
       "0            0.0           50.0\n",
       "1            0.0           50.0\n",
       "2            0.0           50.0\n",
       "3            0.0           50.0\n",
       "4            0.0           50.0"
      ]
     },
     "execution_count": 9,
     "metadata": {},
     "output_type": "execute_result"
    }
   ],
   "source": [
    "interventions.head()"
   ]
  },
  {
   "cell_type": "code",
   "execution_count": 10,
   "metadata": {},
   "outputs": [],
   "source": [
    "adjusted_vaso = interventions[\"max_dose_vaso\"][interventions[\"max_dose_vaso\"] >0]\n",
    "adjusted_iv = interventions[\"input_4hourly\"][interventions[\"input_4hourly\"]>0]"
   ]
  },
  {
   "cell_type": "code",
   "execution_count": 11,
   "metadata": {},
   "outputs": [],
   "source": [
    "vaso_quartiles = adjusted_vaso.quantile([0.25,0.50,0.75])\n",
    "iv_quartiles = adjusted_iv.quantile([0.25,0.5,0.75])"
   ]
  },
  {
   "cell_type": "code",
   "execution_count": 12,
   "metadata": {},
   "outputs": [
    {
     "data": {
      "text/plain": [
       "array([0.08, 0.2 , 0.45])"
      ]
     },
     "execution_count": 12,
     "metadata": {},
     "output_type": "execute_result"
    }
   ],
   "source": [
    "vq = np.array(vaso_quartiles)\n",
    "vq"
   ]
  },
  {
   "cell_type": "code",
   "execution_count": 13,
   "metadata": {},
   "outputs": [
    {
     "data": {
      "text/plain": [
       "array([ 48. , 150. , 499.5])"
      ]
     },
     "execution_count": 13,
     "metadata": {},
     "output_type": "execute_result"
    }
   ],
   "source": [
    "ivq = np.array(iv_quartiles)\n",
    "ivq"
   ]
  },
  {
   "cell_type": "code",
   "execution_count": 14,
   "metadata": {},
   "outputs": [],
   "source": [
    "# so, for vasopressors:\n",
    "# 0 = input_0\n",
    "# 0 < vaso < 0.08 = input_1\n",
    "# 0.08 <= vaso < .225 = input_2\n",
    "# .225 <= vaso < .45 = input_3\n",
    "# .45 <= input_4"
   ]
  },
  {
   "cell_type": "code",
   "execution_count": 15,
   "metadata": {},
   "outputs": [],
   "source": [
    "# for iv:\n",
    "# 0 = input_0\n",
    "# 0 < vaso < 50 = input_1\n",
    "# 50 <= vaso < .180.435 = input_2\n",
    "# 180.435 <= vaso < 529.757 = input_3\n",
    "# 529.757 <= input_4"
   ]
  },
  {
   "cell_type": "code",
   "execution_count": 16,
   "metadata": {},
   "outputs": [],
   "source": [
    "import copy\n",
    "discretised_int = copy.deepcopy(interventions)"
   ]
  },
  {
   "cell_type": "code",
   "execution_count": 17,
   "metadata": {},
   "outputs": [],
   "source": [
    "discretised_int['vaso_input'] = discretised_int['max_dose_vaso']\n",
    "discretised_int['vaso_input'][interventions['max_dose_vaso'] == 0.0] = 0\n",
    "discretised_int['vaso_input'][(interventions['max_dose_vaso'] > 0.0) & (interventions['max_dose_vaso'] < vq[0])] = 1\n",
    "discretised_int['vaso_input'][(interventions['max_dose_vaso'] >= vq[0]) & (interventions['max_dose_vaso'] < vq[1])] = 2\n",
    "discretised_int['vaso_input'][(interventions['max_dose_vaso'] >= vq[1]) & (interventions['max_dose_vaso'] < vq[2])] = 3\n",
    "a = interventions['max_dose_vaso'] >= vq[2]\n",
    "discretised_int['vaso_input'][a] = 4"
   ]
  },
  {
   "cell_type": "code",
   "execution_count": 19,
   "metadata": {},
   "outputs": [],
   "source": [
    "discretised_int['iv_input'] = discretised_int['input_4hourly']\n",
    "discretised_int['iv_input'][interventions['input_4hourly'] == 0.0] = 0\n",
    "discretised_int['iv_input'][(interventions['input_4hourly'] > 0.0) & (interventions['input_4hourly'] < ivq[0])] = 1\n",
    "discretised_int['iv_input'][(interventions['input_4hourly'] >=  ivq[0]) & (interventions['input_4hourly'] <  ivq[1])] = 2\n",
    "discretised_int['iv_input'][(interventions['input_4hourly'] >=  ivq[1]) & (interventions['input_4hourly'] < ivq[2])] = 3\n",
    "discretised_int['iv_input'][(interventions['input_4hourly'] >=  ivq[2])] = 4"
   ]
  },
  {
   "cell_type": "code",
   "execution_count": 20,
   "metadata": {
    "scrolled": true
   },
   "outputs": [
    {
     "data": {
      "text/plain": [
       "<AxesSubplot:ylabel='Frequency'>"
      ]
     },
     "execution_count": 20,
     "metadata": {},
     "output_type": "execute_result"
    },
    {
     "data": {
      "image/png": "[encoded data removed]",
      "text/plain": [
       "<Figure size 432x288 with 1 Axes>"
      ]
     },
     "metadata": {
      "needs_background": "light"
     },
     "output_type": "display_data"
    }
   ],
   "source": [
    "discretised_int['vaso_input'].plot.hist()"
   ]
  },
  {
   "cell_type": "code",
   "execution_count": 21,
   "metadata": {},
   "outputs": [
    {
     "data": {
      "text/plain": [
       "<AxesSubplot:ylabel='Frequency'>"
      ]
     },
     "execution_count": 21,
     "metadata": {},
     "output_type": "execute_result"
    },
    {
     "data": {
      "image/png": "[encoded data removed]",
      "text/plain": [
       "<Figure size 432x288 with 1 Axes>"
      ]
     },
     "metadata": {
      "needs_background": "light"
     },
     "output_type": "display_data"
    }
   ],
   "source": [
    "discretised_int['iv_input'].plot.hist()"
   ]
  },
  {
   "cell_type": "code",
   "execution_count": 22,
   "metadata": {},
   "outputs": [],
   "source": [
    "disc_inp_data = copy.deepcopy(orig_data)"
   ]
  },
  {
   "cell_type": "code",
   "execution_count": 23,
   "metadata": {},
   "outputs": [],
   "source": [
    "disc_inp_data['vaso_input'] = discretised_int['vaso_input']\n",
    "disc_inp_data['iv_input'] = discretised_int['iv_input']"
   ]
  },
  {
   "cell_type": "code",
   "execution_count": 25,
   "metadata": {
    "scrolled": true
   },
   "outputs": [
    {
     "data": {
      "text/html": [
       "<div>\n",
       "<style scoped>\n",
       "    .dataframe tbody tr th:only-of-type {\n",
       "        vertical-align: middle;\n",
       "    }\n",
       "\n",
       "    .dataframe tbody tr th {\n",
       "        vertical-align: top;\n",
       "    }\n",
       "\n",
       "    .dataframe thead th {\n",
       "        text-align: right;\n",
       "    }\n",
       "</style>\n",
       "<table border=\"1\" class=\"dataframe\">\n",
       "  <thead>\n",
       "    <tr style=\"text-align: right;\">\n",
       "      <th></th>\n",
       "      <th>bloc</th>\n",
       "      <th>icustayid</th>\n",
       "      <th>charttime</th>\n",
       "      <th>gender</th>\n",
       "      <th>age</th>\n",
       "      <th>elixhauser</th>\n",
       "      <th>re_admission</th>\n",
       "      <th>died_in_hosp</th>\n",
       "      <th>died_within_48h_of_out_time</th>\n",
       "      <th>mortality_90d</th>\n",
       "      <th>...</th>\n",
       "      <th>max_dose_vaso</th>\n",
       "      <th>input_total</th>\n",
       "      <th>input_4hourly</th>\n",
       "      <th>output_total</th>\n",
       "      <th>output_4hourly</th>\n",
       "      <th>cumulated_balance</th>\n",
       "      <th>SOFA</th>\n",
       "      <th>SIRS</th>\n",
       "      <th>vaso_input</th>\n",
       "      <th>iv_input</th>\n",
       "    </tr>\n",
       "  </thead>\n",
       "  <tbody>\n",
       "    <tr>\n",
       "      <th>0</th>\n",
       "      <td>1</td>\n",
       "      <td>3</td>\n",
       "      <td>7245486000</td>\n",
       "      <td>0</td>\n",
       "      <td>17639.826435</td>\n",
       "      <td>0</td>\n",
       "      <td>0</td>\n",
       "      <td>0</td>\n",
       "      <td>0</td>\n",
       "      <td>1</td>\n",
       "      <td>...</td>\n",
       "      <td>0.0</td>\n",
       "      <td>6527.0</td>\n",
       "      <td>50.0</td>\n",
       "      <td>13617.0</td>\n",
       "      <td>520.0</td>\n",
       "      <td>-7090.0</td>\n",
       "      <td>3</td>\n",
       "      <td>1</td>\n",
       "      <td>0.0</td>\n",
       "      <td>2.0</td>\n",
       "    </tr>\n",
       "    <tr>\n",
       "      <th>1</th>\n",
       "      <td>2</td>\n",
       "      <td>3</td>\n",
       "      <td>7245500400</td>\n",
       "      <td>0</td>\n",
       "      <td>17639.826435</td>\n",
       "      <td>0</td>\n",
       "      <td>0</td>\n",
       "      <td>0</td>\n",
       "      <td>0</td>\n",
       "      <td>1</td>\n",
       "      <td>...</td>\n",
       "      <td>0.0</td>\n",
       "      <td>6577.0</td>\n",
       "      <td>50.0</td>\n",
       "      <td>13982.0</td>\n",
       "      <td>365.0</td>\n",
       "      <td>-7405.0</td>\n",
       "      <td>7</td>\n",
       "      <td>2</td>\n",
       "      <td>0.0</td>\n",
       "      <td>2.0</td>\n",
       "    </tr>\n",
       "    <tr>\n",
       "      <th>2</th>\n",
       "      <td>3</td>\n",
       "      <td>3</td>\n",
       "      <td>7245514800</td>\n",
       "      <td>0</td>\n",
       "      <td>17639.826435</td>\n",
       "      <td>0</td>\n",
       "      <td>0</td>\n",
       "      <td>0</td>\n",
       "      <td>0</td>\n",
       "      <td>1</td>\n",
       "      <td>...</td>\n",
       "      <td>0.0</td>\n",
       "      <td>6627.0</td>\n",
       "      <td>50.0</td>\n",
       "      <td>14262.0</td>\n",
       "      <td>280.0</td>\n",
       "      <td>-7635.0</td>\n",
       "      <td>5</td>\n",
       "      <td>2</td>\n",
       "      <td>0.0</td>\n",
       "      <td>2.0</td>\n",
       "    </tr>\n",
       "    <tr>\n",
       "      <th>3</th>\n",
       "      <td>4</td>\n",
       "      <td>3</td>\n",
       "      <td>7245529200</td>\n",
       "      <td>0</td>\n",
       "      <td>17639.826435</td>\n",
       "      <td>0</td>\n",
       "      <td>0</td>\n",
       "      <td>0</td>\n",
       "      <td>0</td>\n",
       "      <td>1</td>\n",
       "      <td>...</td>\n",
       "      <td>0.0</td>\n",
       "      <td>6677.0</td>\n",
       "      <td>50.0</td>\n",
       "      <td>14602.0</td>\n",
       "      <td>340.0</td>\n",
       "      <td>-7925.0</td>\n",
       "      <td>5</td>\n",
       "      <td>1</td>\n",
       "      <td>0.0</td>\n",
       "      <td>2.0</td>\n",
       "    </tr>\n",
       "    <tr>\n",
       "      <th>4</th>\n",
       "      <td>5</td>\n",
       "      <td>3</td>\n",
       "      <td>7245543600</td>\n",
       "      <td>0</td>\n",
       "      <td>17639.826435</td>\n",
       "      <td>0</td>\n",
       "      <td>0</td>\n",
       "      <td>0</td>\n",
       "      <td>0</td>\n",
       "      <td>1</td>\n",
       "      <td>...</td>\n",
       "      <td>0.0</td>\n",
       "      <td>6727.0</td>\n",
       "      <td>50.0</td>\n",
       "      <td>15142.0</td>\n",
       "      <td>540.0</td>\n",
       "      <td>-8415.0</td>\n",
       "      <td>5</td>\n",
       "      <td>2</td>\n",
       "      <td>0.0</td>\n",
       "      <td>2.0</td>\n",
       "    </tr>\n",
       "  </tbody>\n",
       "</table>\n",
       "<p>5 rows × 61 columns</p>\n",
       "</div>"
      ],
      "text/plain": [
       "   bloc  icustayid   charttime  gender           age  elixhauser  \\\n",
       "0     1          3  7245486000       0  17639.826435           0   \n",
       "1     2          3  7245500400       0  17639.826435           0   \n",
       "2     3          3  7245514800       0  17639.826435           0   \n",
       "3     4          3  7245529200       0  17639.826435           0   \n",
       "4     5          3  7245543600       0  17639.826435           0   \n",
       "\n",
       "   re_admission  died_in_hosp  died_within_48h_of_out_time  mortality_90d  \\\n",
       "0             0             0                            0              1   \n",
       "1             0             0                            0              1   \n",
       "2             0             0                            0              1   \n",
       "3             0             0                            0              1   \n",
       "4             0             0                            0              1   \n",
       "\n",
       "   ...  max_dose_vaso  input_total  input_4hourly  output_total  \\\n",
       "0  ...            0.0       6527.0           50.0       13617.0   \n",
       "1  ...            0.0       6577.0           50.0       13982.0   \n",
       "2  ...            0.0       6627.0           50.0       14262.0   \n",
       "3  ...            0.0       6677.0           50.0       14602.0   \n",
       "4  ...            0.0       6727.0           50.0       15142.0   \n",
       "\n",
       "   output_4hourly  cumulated_balance  SOFA  SIRS  vaso_input  iv_input  \n",
       "0           520.0            -7090.0     3     1         0.0       2.0  \n",
       "1           365.0            -7405.0     7     2         0.0       2.0  \n",
       "2           280.0            -7635.0     5     2         0.0       2.0  \n",
       "3           340.0            -7925.0     5     1         0.0       2.0  \n",
       "4           540.0            -8415.0     5     2         0.0       2.0  \n",
       "\n",
       "[5 rows x 61 columns]"
      ]
     },
     "execution_count": 25,
     "metadata": {},
     "output_type": "execute_result"
    }
   ],
   "source": [
    "disc_inp_data.head()"
   ]
  },
  {
   "cell_type": "code",
   "execution_count": 26,
   "metadata": {
    "scrolled": false
   },
   "outputs": [
    {
     "data": {
      "text/plain": [
       "0.0    237527\n",
       "3.0     11603\n",
       "4.0     10682\n",
       "1.0     10093\n",
       "2.0      8981\n",
       "Name: vaso_input, dtype: int64"
      ]
     },
     "execution_count": 26,
     "metadata": {},
     "output_type": "execute_result"
    }
   ],
   "source": [
    "disc_inp_data['vaso_input'].value_counts()"
   ]
  },
  {
   "cell_type": "code",
   "execution_count": 27,
   "metadata": {},
   "outputs": [
    {
     "data": {
      "text/plain": [
       "0.0    77522\n",
       "3.0    50915\n",
       "4.0    50349\n",
       "1.0    50239\n",
       "2.0    49861\n",
       "Name: iv_input, dtype: int64"
      ]
     },
     "execution_count": 27,
     "metadata": {},
     "output_type": "execute_result"
    }
   ],
   "source": [
    "disc_inp_data['iv_input'].value_counts()"
   ]
  },
  {
   "cell_type": "code",
   "execution_count": 28,
   "metadata": {},
   "outputs": [],
   "source": [
    "disc_inp_data.to_csv('../data/discretised_input_data.csv', index=False)"
   ]
  },
  {
   "cell_type": "code",
   "execution_count": null,
   "metadata": {
    "collapsed": true
   },
   "outputs": [],
   "source": []
  }
 ],
 "metadata": {
  "kernelspec": {
   "display_name": "Python 3 (ipykernel)",
   "language": "python",
   "name": "python3"
  },
  "language_info": {
   "codemirror_mode": {
    "name": "ipython",
    "version": 3
   },
   "file_extension": ".py",
   "mimetype": "text/x-python",
   "name": "python",
   "nbconvert_exporter": "python",
   "pygments_lexer": "ipython3",
   "version": "3.7.10"
  }
 },
 "nbformat": 4,
 "nbformat_minor": 1
}
