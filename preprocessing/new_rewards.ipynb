{
 "cells": [
  {
   "cell_type": "code",
   "execution_count": 1,
   "metadata": {},
   "outputs": [],
   "source": [
    "#  Reward function shaping in this script\n",
    "#  TODO extend for the discrete case also. Right now, discrete uses only sparse rewards"
   ]
  },
  {
   "cell_type": "code",
   "execution_count": 1,
   "metadata": {},
   "outputs": [],
   "source": [
    "import pandas as pd\n",
    "import numpy as np\n",
    "try:\n",
    "    import cPickle as pickle\n",
    "except ImportError:\n",
    "    import _pickle as pickle"
   ]
  },
  {
   "cell_type": "code",
   "execution_count": 2,
   "metadata": {},
   "outputs": [],
   "source": [
    "df_train = pd.read_csv('../data/rl_train_set_scaled.csv')\n",
    "df_val =  pd.read_csv('../data/rl_val_set_scaled.csv')\n",
    "df_test = pd.read_csv('../data/rl_test_set_scaled.csv')"
   ]
  },
  {
   "cell_type": "code",
   "execution_count": 3,
   "metadata": {},
   "outputs": [],
   "source": [
    "# df_train_disc = pd.read_csv('../data/rl_train_data_discrete.csv')\n",
    "# df_val_disc = pd.read_csv('../data/rl_val_data_discrete.csv')\n",
    "# df_test_disc = pd.read_csv('../data/rl_test_data_discrete.csv')"
   ]
  },
  {
   "cell_type": "code",
   "execution_count": 3,
   "metadata": {},
   "outputs": [
    {
     "data": {
      "text/html": [
       "<div>\n",
       "<style scoped>\n",
       "    .dataframe tbody tr th:only-of-type {\n",
       "        vertical-align: middle;\n",
       "    }\n",
       "\n",
       "    .dataframe tbody tr th {\n",
       "        vertical-align: top;\n",
       "    }\n",
       "\n",
       "    .dataframe thead th {\n",
       "        text-align: right;\n",
       "    }\n",
       "</style>\n",
       "<table border=\"1\" class=\"dataframe\">\n",
       "  <thead>\n",
       "    <tr style=\"text-align: right;\">\n",
       "      <th></th>\n",
       "      <th>bloc</th>\n",
       "      <th>icustayid</th>\n",
       "      <th>charttime</th>\n",
       "      <th>gender</th>\n",
       "      <th>age</th>\n",
       "      <th>elixhauser</th>\n",
       "      <th>re_admission</th>\n",
       "      <th>died_in_hosp</th>\n",
       "      <th>died_within_48h_of_out_time</th>\n",
       "      <th>mortality_90d</th>\n",
       "      <th>...</th>\n",
       "      <th>input_total</th>\n",
       "      <th>input_4hourly</th>\n",
       "      <th>output_total</th>\n",
       "      <th>output_4hourly</th>\n",
       "      <th>cumulated_balance</th>\n",
       "      <th>SOFA</th>\n",
       "      <th>SIRS</th>\n",
       "      <th>vaso_input</th>\n",
       "      <th>iv_input</th>\n",
       "      <th>reward</th>\n",
       "    </tr>\n",
       "  </thead>\n",
       "  <tbody>\n",
       "    <tr>\n",
       "      <th>0</th>\n",
       "      <td>0.000000</td>\n",
       "      <td>11</td>\n",
       "      <td>6898241400</td>\n",
       "      <td>1.0</td>\n",
       "      <td>0.902327</td>\n",
       "      <td>0.428571</td>\n",
       "      <td>1.0</td>\n",
       "      <td>0</td>\n",
       "      <td>0</td>\n",
       "      <td>0</td>\n",
       "      <td>...</td>\n",
       "      <td>0.0</td>\n",
       "      <td>0.0</td>\n",
       "      <td>0.000000</td>\n",
       "      <td>0.000000</td>\n",
       "      <td>0.223817</td>\n",
       "      <td>0.500000</td>\n",
       "      <td>0.00</td>\n",
       "      <td>0.0</td>\n",
       "      <td>0.0</td>\n",
       "      <td>0</td>\n",
       "    </tr>\n",
       "    <tr>\n",
       "      <th>1</th>\n",
       "      <td>0.222560</td>\n",
       "      <td>11</td>\n",
       "      <td>6898255800</td>\n",
       "      <td>1.0</td>\n",
       "      <td>0.902327</td>\n",
       "      <td>0.428571</td>\n",
       "      <td>1.0</td>\n",
       "      <td>0</td>\n",
       "      <td>0</td>\n",
       "      <td>0</td>\n",
       "      <td>...</td>\n",
       "      <td>0.0</td>\n",
       "      <td>0.0</td>\n",
       "      <td>0.574861</td>\n",
       "      <td>0.707254</td>\n",
       "      <td>0.223281</td>\n",
       "      <td>0.416667</td>\n",
       "      <td>0.00</td>\n",
       "      <td>0.0</td>\n",
       "      <td>0.0</td>\n",
       "      <td>0</td>\n",
       "    </tr>\n",
       "    <tr>\n",
       "      <th>2</th>\n",
       "      <td>0.356608</td>\n",
       "      <td>11</td>\n",
       "      <td>6898270200</td>\n",
       "      <td>1.0</td>\n",
       "      <td>0.902327</td>\n",
       "      <td>0.428571</td>\n",
       "      <td>1.0</td>\n",
       "      <td>0</td>\n",
       "      <td>0</td>\n",
       "      <td>0</td>\n",
       "      <td>...</td>\n",
       "      <td>0.0</td>\n",
       "      <td>0.0</td>\n",
       "      <td>0.629131</td>\n",
       "      <td>0.723746</td>\n",
       "      <td>0.222629</td>\n",
       "      <td>0.416667</td>\n",
       "      <td>0.25</td>\n",
       "      <td>0.0</td>\n",
       "      <td>0.0</td>\n",
       "      <td>0</td>\n",
       "    </tr>\n",
       "    <tr>\n",
       "      <th>3</th>\n",
       "      <td>0.452837</td>\n",
       "      <td>11</td>\n",
       "      <td>6898284600</td>\n",
       "      <td>1.0</td>\n",
       "      <td>0.902327</td>\n",
       "      <td>0.428571</td>\n",
       "      <td>1.0</td>\n",
       "      <td>0</td>\n",
       "      <td>0</td>\n",
       "      <td>0</td>\n",
       "      <td>...</td>\n",
       "      <td>0.0</td>\n",
       "      <td>0.0</td>\n",
       "      <td>0.659814</td>\n",
       "      <td>0.726688</td>\n",
       "      <td>0.221953</td>\n",
       "      <td>0.458333</td>\n",
       "      <td>0.25</td>\n",
       "      <td>0.0</td>\n",
       "      <td>0.0</td>\n",
       "      <td>0</td>\n",
       "    </tr>\n",
       "    <tr>\n",
       "      <th>4</th>\n",
       "      <td>0.527957</td>\n",
       "      <td>11</td>\n",
       "      <td>6898299000</td>\n",
       "      <td>1.0</td>\n",
       "      <td>0.902327</td>\n",
       "      <td>0.428571</td>\n",
       "      <td>1.0</td>\n",
       "      <td>0</td>\n",
       "      <td>0</td>\n",
       "      <td>0</td>\n",
       "      <td>...</td>\n",
       "      <td>0.0</td>\n",
       "      <td>0.0</td>\n",
       "      <td>0.675701</td>\n",
       "      <td>0.699627</td>\n",
       "      <td>0.221464</td>\n",
       "      <td>0.458333</td>\n",
       "      <td>0.25</td>\n",
       "      <td>0.0</td>\n",
       "      <td>0.0</td>\n",
       "      <td>0</td>\n",
       "    </tr>\n",
       "  </tbody>\n",
       "</table>\n",
       "<p>5 rows × 62 columns</p>\n",
       "</div>"
      ],
      "text/plain": [
       "       bloc  icustayid   charttime  gender       age  elixhauser  \\\n",
       "0  0.000000         11  6898241400     1.0  0.902327    0.428571   \n",
       "1  0.222560         11  6898255800     1.0  0.902327    0.428571   \n",
       "2  0.356608         11  6898270200     1.0  0.902327    0.428571   \n",
       "3  0.452837         11  6898284600     1.0  0.902327    0.428571   \n",
       "4  0.527957         11  6898299000     1.0  0.902327    0.428571   \n",
       "\n",
       "   re_admission  died_in_hosp  died_within_48h_of_out_time  mortality_90d  \\\n",
       "0           1.0             0                            0              0   \n",
       "1           1.0             0                            0              0   \n",
       "2           1.0             0                            0              0   \n",
       "3           1.0             0                            0              0   \n",
       "4           1.0             0                            0              0   \n",
       "\n",
       "   ...  input_total  input_4hourly  output_total  output_4hourly  \\\n",
       "0  ...          0.0            0.0      0.000000        0.000000   \n",
       "1  ...          0.0            0.0      0.574861        0.707254   \n",
       "2  ...          0.0            0.0      0.629131        0.723746   \n",
       "3  ...          0.0            0.0      0.659814        0.726688   \n",
       "4  ...          0.0            0.0      0.675701        0.699627   \n",
       "\n",
       "   cumulated_balance      SOFA  SIRS  vaso_input  iv_input  reward  \n",
       "0           0.223817  0.500000  0.00         0.0       0.0       0  \n",
       "1           0.223281  0.416667  0.00         0.0       0.0       0  \n",
       "2           0.222629  0.416667  0.25         0.0       0.0       0  \n",
       "3           0.221953  0.458333  0.25         0.0       0.0       0  \n",
       "4           0.221464  0.458333  0.25         0.0       0.0       0  \n",
       "\n",
       "[5 rows x 62 columns]"
      ]
     },
     "execution_count": 3,
     "metadata": {},
     "output_type": "execute_result"
    }
   ],
   "source": [
    "df_train.head()"
   ]
  },
  {
   "cell_type": "code",
   "execution_count": 4,
   "metadata": {},
   "outputs": [
    {
     "data": {
      "text/plain": [
       "195567"
      ]
     },
     "execution_count": 4,
     "metadata": {},
     "output_type": "execute_result"
    }
   ],
   "source": [
    "len(df_train)"
   ]
  },
  {
   "cell_type": "code",
   "execution_count": 5,
   "metadata": {},
   "outputs": [
    {
     "data": {
      "text/html": [
       "<div>\n",
       "<style scoped>\n",
       "    .dataframe tbody tr th:only-of-type {\n",
       "        vertical-align: middle;\n",
       "    }\n",
       "\n",
       "    .dataframe tbody tr th {\n",
       "        vertical-align: top;\n",
       "    }\n",
       "\n",
       "    .dataframe thead th {\n",
       "        text-align: right;\n",
       "    }\n",
       "</style>\n",
       "<table border=\"1\" class=\"dataframe\">\n",
       "  <thead>\n",
       "    <tr style=\"text-align: right;\">\n",
       "      <th></th>\n",
       "      <th>bloc</th>\n",
       "      <th>icustayid</th>\n",
       "      <th>charttime</th>\n",
       "      <th>gender</th>\n",
       "      <th>age</th>\n",
       "      <th>elixhauser</th>\n",
       "      <th>re_admission</th>\n",
       "      <th>died_in_hosp</th>\n",
       "      <th>died_within_48h_of_out_time</th>\n",
       "      <th>mortality_90d</th>\n",
       "      <th>...</th>\n",
       "      <th>input_total</th>\n",
       "      <th>input_4hourly</th>\n",
       "      <th>output_total</th>\n",
       "      <th>output_4hourly</th>\n",
       "      <th>cumulated_balance</th>\n",
       "      <th>SOFA</th>\n",
       "      <th>SIRS</th>\n",
       "      <th>vaso_input</th>\n",
       "      <th>iv_input</th>\n",
       "      <th>reward</th>\n",
       "    </tr>\n",
       "  </thead>\n",
       "  <tbody>\n",
       "    <tr>\n",
       "      <th>0</th>\n",
       "      <td>0.000000</td>\n",
       "      <td>3</td>\n",
       "      <td>7245486000</td>\n",
       "      <td>0.0</td>\n",
       "      <td>0.412568</td>\n",
       "      <td>0.0</td>\n",
       "      <td>0.0</td>\n",
       "      <td>0</td>\n",
       "      <td>0</td>\n",
       "      <td>1</td>\n",
       "      <td>...</td>\n",
       "      <td>0.704767</td>\n",
       "      <td>0.492908</td>\n",
       "      <td>0.805762</td>\n",
       "      <td>0.717533</td>\n",
       "      <td>0.215559</td>\n",
       "      <td>0.125000</td>\n",
       "      <td>0.25</td>\n",
       "      <td>0.0</td>\n",
       "      <td>2.0</td>\n",
       "      <td>0</td>\n",
       "    </tr>\n",
       "    <tr>\n",
       "      <th>1</th>\n",
       "      <td>0.222560</td>\n",
       "      <td>3</td>\n",
       "      <td>7245500400</td>\n",
       "      <td>0.0</td>\n",
       "      <td>0.412568</td>\n",
       "      <td>0.0</td>\n",
       "      <td>0.0</td>\n",
       "      <td>0</td>\n",
       "      <td>0</td>\n",
       "      <td>1</td>\n",
       "      <td>...</td>\n",
       "      <td>0.705252</td>\n",
       "      <td>0.492908</td>\n",
       "      <td>0.807565</td>\n",
       "      <td>0.687860</td>\n",
       "      <td>0.215192</td>\n",
       "      <td>0.291667</td>\n",
       "      <td>0.50</td>\n",
       "      <td>0.0</td>\n",
       "      <td>2.0</td>\n",
       "      <td>0</td>\n",
       "    </tr>\n",
       "    <tr>\n",
       "      <th>2</th>\n",
       "      <td>0.356608</td>\n",
       "      <td>3</td>\n",
       "      <td>7245514800</td>\n",
       "      <td>0.0</td>\n",
       "      <td>0.412568</td>\n",
       "      <td>0.0</td>\n",
       "      <td>0.0</td>\n",
       "      <td>0</td>\n",
       "      <td>0</td>\n",
       "      <td>1</td>\n",
       "      <td>...</td>\n",
       "      <td>0.705734</td>\n",
       "      <td>0.492908</td>\n",
       "      <td>0.808916</td>\n",
       "      <td>0.665636</td>\n",
       "      <td>0.214924</td>\n",
       "      <td>0.208333</td>\n",
       "      <td>0.50</td>\n",
       "      <td>0.0</td>\n",
       "      <td>2.0</td>\n",
       "      <td>0</td>\n",
       "    </tr>\n",
       "    <tr>\n",
       "      <th>3</th>\n",
       "      <td>0.452837</td>\n",
       "      <td>3</td>\n",
       "      <td>7245529200</td>\n",
       "      <td>0.0</td>\n",
       "      <td>0.412568</td>\n",
       "      <td>0.0</td>\n",
       "      <td>0.0</td>\n",
       "      <td>0</td>\n",
       "      <td>0</td>\n",
       "      <td>1</td>\n",
       "      <td>...</td>\n",
       "      <td>0.706212</td>\n",
       "      <td>0.492908</td>\n",
       "      <td>0.810522</td>\n",
       "      <td>0.681912</td>\n",
       "      <td>0.214586</td>\n",
       "      <td>0.208333</td>\n",
       "      <td>0.25</td>\n",
       "      <td>0.0</td>\n",
       "      <td>2.0</td>\n",
       "      <td>0</td>\n",
       "    </tr>\n",
       "    <tr>\n",
       "      <th>4</th>\n",
       "      <td>0.527957</td>\n",
       "      <td>3</td>\n",
       "      <td>7245543600</td>\n",
       "      <td>0.0</td>\n",
       "      <td>0.412568</td>\n",
       "      <td>0.0</td>\n",
       "      <td>0.0</td>\n",
       "      <td>0</td>\n",
       "      <td>0</td>\n",
       "      <td>1</td>\n",
       "      <td>...</td>\n",
       "      <td>0.706686</td>\n",
       "      <td>0.492908</td>\n",
       "      <td>0.812997</td>\n",
       "      <td>0.720697</td>\n",
       "      <td>0.214016</td>\n",
       "      <td>0.208333</td>\n",
       "      <td>0.50</td>\n",
       "      <td>0.0</td>\n",
       "      <td>2.0</td>\n",
       "      <td>0</td>\n",
       "    </tr>\n",
       "  </tbody>\n",
       "</table>\n",
       "<p>5 rows × 62 columns</p>\n",
       "</div>"
      ],
      "text/plain": [
       "       bloc  icustayid   charttime  gender       age  elixhauser  \\\n",
       "0  0.000000          3  7245486000     0.0  0.412568         0.0   \n",
       "1  0.222560          3  7245500400     0.0  0.412568         0.0   \n",
       "2  0.356608          3  7245514800     0.0  0.412568         0.0   \n",
       "3  0.452837          3  7245529200     0.0  0.412568         0.0   \n",
       "4  0.527957          3  7245543600     0.0  0.412568         0.0   \n",
       "\n",
       "   re_admission  died_in_hosp  died_within_48h_of_out_time  mortality_90d  \\\n",
       "0           0.0             0                            0              1   \n",
       "1           0.0             0                            0              1   \n",
       "2           0.0             0                            0              1   \n",
       "3           0.0             0                            0              1   \n",
       "4           0.0             0                            0              1   \n",
       "\n",
       "   ...  input_total  input_4hourly  output_total  output_4hourly  \\\n",
       "0  ...     0.704767       0.492908      0.805762        0.717533   \n",
       "1  ...     0.705252       0.492908      0.807565        0.687860   \n",
       "2  ...     0.705734       0.492908      0.808916        0.665636   \n",
       "3  ...     0.706212       0.492908      0.810522        0.681912   \n",
       "4  ...     0.706686       0.492908      0.812997        0.720697   \n",
       "\n",
       "   cumulated_balance      SOFA  SIRS  vaso_input  iv_input  reward  \n",
       "0           0.215559  0.125000  0.25         0.0       2.0       0  \n",
       "1           0.215192  0.291667  0.50         0.0       2.0       0  \n",
       "2           0.214924  0.208333  0.50         0.0       2.0       0  \n",
       "3           0.214586  0.208333  0.25         0.0       2.0       0  \n",
       "4           0.214016  0.208333  0.50         0.0       2.0       0  \n",
       "\n",
       "[5 rows x 62 columns]"
      ]
     },
     "execution_count": 5,
     "metadata": {},
     "output_type": "execute_result"
    }
   ],
   "source": [
    "df_test.head()"
   ]
  },
  {
   "cell_type": "code",
   "execution_count": 7,
   "metadata": {},
   "outputs": [],
   "source": [
    "# Smaller rewards to improve stability in continuous models\n",
    "df_train.loc[df_train['reward'] > 15,'reward'] = 15\n",
    "df_train.loc[df_train['reward'] < -15,'reward'] = -15\n",
    "\n",
    "df_val.loc[df_val['reward'] > 15,'reward'] = 15\n",
    "df_val.loc[df_val['reward'] < -15,'reward'] = -15\n",
    "\n",
    "df_test.loc[df_test['reward'] > 15,'reward'] = 15\n",
    "df_test.loc[df_test['reward'] < -15,'reward'] = -15"
   ]
  },
  {
   "cell_type": "code",
   "execution_count": 9,
   "metadata": {},
   "outputs": [],
   "source": [
    "# Similar process in discrete models to facilitate comparisons\n",
    "# df_train_disc.loc[df_train_disc['reward'] > 15,'reward'] = 15\n",
    "# df_train_disc.loc[df_train_disc['reward'] < -15,'reward'] = -15\n",
    "\n",
    "# df_val_disc.loc[df_val_disc['reward'] > 15,'reward'] = 15\n",
    "# df_val_disc.loc[df_val_disc['reward'] < -15,'reward'] = -15\n",
    "\n",
    "# df_test_disc.loc[df_test_disc['reward'] > 15,'reward'] = 15\n",
    "# df_test_disc.loc[df_test_disc['reward'] < -15,'reward'] = -15"
   ]
  },
  {
   "cell_type": "code",
   "execution_count": 10,
   "metadata": {},
   "outputs": [],
   "source": [
    "orig_df = pd.read_csv('../data/MIMICtable.csv')"
   ]
  },
  {
   "cell_type": "code",
   "execution_count": 11,
   "metadata": {},
   "outputs": [],
   "source": [
    "# lactate - target is 0.5 to 1 mmol/l\n",
    "# SOFA - 0\n",
    "#  GCS - 0\n",
    "#  mechvent = 0\n",
    "# MAP is normally between 65 and 110 mmHg"
   ]
  },
  {
   "cell_type": "code",
   "execution_count": 12,
   "metadata": {},
   "outputs": [],
   "source": [
    "# s1 = orig_df['SOFA'].values\n",
    "# s2 = orig_df['SOFA'].values\n",
    "# s2 = np.insert(s2,0,9)\n",
    "# s2 = np.delete(s2, -1)\n",
    "# print len(s1), len(s2)"
   ]
  },
  {
   "cell_type": "code",
   "execution_count": 13,
   "metadata": {},
   "outputs": [],
   "source": [
    "# pd.Series(s2-s1).hist(bins=100)"
   ]
  },
  {
   "cell_type": "code",
   "execution_count": 14,
   "metadata": {},
   "outputs": [],
   "source": [
    "# l1 = orig_df['Arterial_lactate'].values\n",
    "# l2 = orig_df['Arterial_lactate'].values\n",
    "# l2 = np.insert(l2,0,9)\n",
    "# l2 = np.delete(l2, -1)\n",
    "# print len(l1), len(l2)"
   ]
  },
  {
   "cell_type": "code",
   "execution_count": 15,
   "metadata": {},
   "outputs": [],
   "source": [
    "c0 = -0.1/4\n",
    "c1 = -0.5/4\n",
    "c2 = -2"
   ]
  },
  {
   "cell_type": "code",
   "execution_count": 16,
   "metadata": {},
   "outputs": [],
   "source": [
    "# c0 = -0.1/2\n",
    "# c1 = -0.5/2\n",
    "# c2 = -2"
   ]
  },
  {
   "cell_type": "code",
   "execution_count": 17,
   "metadata": {
    "scrolled": true
   },
   "outputs": [
    {
     "name": "stdout",
     "output_type": "stream",
     "text": [
      "10000\n",
      "20000\n",
      "30000\n",
      "40000\n",
      "50000\n",
      "60000\n",
      "70000\n",
      "80000\n",
      "90000\n",
      "100000\n",
      "110000\n",
      "120000\n",
      "130000\n",
      "140000\n",
      "150000\n",
      "160000\n",
      "170000\n",
      "180000\n",
      "190000\n",
      "200000\n",
      "210000\n",
      "220000\n",
      "230000\n",
      "240000\n",
      "250000\n",
      "260000\n",
      "270000\n",
      "-0.025000    39031\n",
      " 0.000000    22507\n",
      " 0.125000    12996\n",
      "-0.125000    11289\n",
      " 0.250000     6404\n",
      "             ...  \n",
      "-0.916293        1\n",
      " 0.087861        1\n",
      "-0.211756        1\n",
      " 0.838874        1\n",
      " 2.034402        1\n",
      "Name: shaped_reward, Length: 53059, dtype: int64\n"
     ]
    }
   ],
   "source": [
    "# add rewards\n",
    "orig_df['shaped_reward'] = 0\n",
    "for i in orig_df.index:\n",
    "    if i == 0:\n",
    "        continue\n",
    "    if orig_df.loc[i, 'icustayid'] == orig_df.loc[i-1, 'icustayid']:\n",
    "        sofa_cur = orig_df.loc[i,'SOFA']\n",
    "        sofa_prev = orig_df.loc[i-1,'SOFA']\n",
    "        lact_cur = orig_df.loc[i,'Arterial_lactate']\n",
    "        lact_prev = orig_df.loc[i-1,'Arterial_lactate']\n",
    "        reward = 0\n",
    "        if sofa_cur == sofa_prev and sofa_cur != 0:\n",
    "            reward += c0\n",
    "        reward += c1*(sofa_cur-sofa_prev)\n",
    "        reward += c2*np.tanh(lact_cur - lact_prev)\n",
    "        orig_df.loc[i-1,'shaped_reward'] = reward\n",
    "    if i % 10000 == 0:\n",
    "        print(i)\n",
    "\n",
    "# if orig_df.ix[len(orig_df)-1, 'died_in_hosp'] == 1:\n",
    "#     orig_df.ix[len(orig_df)-1, 'shaped_reward'] = -100\n",
    "# elif orig_df.ix[len(orig_df)-1, 'died_in_hosp'] == 0:\n",
    "#      orig_df.ix[len(orig_df)-1, 'shaped_reward'] = 100\n",
    "print (orig_df['shaped_reward'].value_counts())"
   ]
  },
  {
   "cell_type": "code",
   "execution_count": 14,
   "metadata": {},
   "outputs": [
    {
     "data": {
      "text/plain": [
       " 0     180896\n",
       " 15     12660\n",
       "-15      2011\n",
       "Name: reward, dtype: int64"
      ]
     },
     "execution_count": 14,
     "metadata": {},
     "output_type": "execute_result"
    },
    {
     "data": {
      "image/png": "[encoded data removed]",
      "text/plain": [
       "<Figure size 432x288 with 1 Axes>"
      ]
     },
     "metadata": {
      "needs_background": "light"
     },
     "output_type": "display_data"
    }
   ],
   "source": [
    "%matplotlib inline\n",
    "df_train['reward'].hist(bins=100)\n",
    "df_train['reward'].value_counts()#+df_test['reward'].value_counts()+df_val['reward'].value_counts()"
   ]
  },
  {
   "cell_type": "code",
   "execution_count": 19,
   "metadata": {},
   "outputs": [],
   "source": [
    "train_ids = df_train['icustayid'].unique()\n",
    "val_ids = df_val['icustayid'].unique()\n",
    "test_ids = df_test['icustayid'].unique()"
   ]
  },
  {
   "cell_type": "code",
   "execution_count": 20,
   "metadata": {},
   "outputs": [],
   "source": [
    "train_rewards = orig_df.loc[orig_df['icustayid'].isin(train_ids)]['shaped_reward']"
   ]
  },
  {
   "cell_type": "code",
   "execution_count": 21,
   "metadata": {},
   "outputs": [],
   "source": [
    "# check this works as expected\n",
    "val_rewards = orig_df.loc[orig_df['icustayid'].isin(val_ids)]['shaped_reward']"
   ]
  },
  {
   "cell_type": "code",
   "execution_count": 22,
   "metadata": {},
   "outputs": [],
   "source": [
    "test_rewards = orig_df.loc[orig_df['icustayid'].isin(test_ids)]['shaped_reward']"
   ]
  },
  {
   "cell_type": "code",
   "execution_count": 23,
   "metadata": {
    "scrolled": true
   },
   "outputs": [
    {
     "data": {
      "text/plain": [
       "278886"
      ]
     },
     "execution_count": 23,
     "metadata": {},
     "output_type": "execute_result"
    }
   ],
   "source": [
    "len(orig_df)"
   ]
  },
  {
   "cell_type": "code",
   "execution_count": 24,
   "metadata": {},
   "outputs": [
    {
     "data": {
      "text/plain": [
       "278886"
      ]
     },
     "execution_count": 24,
     "metadata": {},
     "output_type": "execute_result"
    }
   ],
   "source": [
    "# check that this sums to the total number of data items -- needs to be re-run\n",
    "len(df_train) + len(df_test) + len(df_val)"
   ]
  },
  {
   "cell_type": "code",
   "execution_count": 25,
   "metadata": {},
   "outputs": [],
   "source": [
    "df_train['reward'] += np.array(train_rewards)\n",
    "df_val['reward'] += np.array(val_rewards)\n",
    "df_test['reward'] += np.array(test_rewards)"
   ]
  },
  {
   "cell_type": "code",
   "execution_count": 27,
   "metadata": {},
   "outputs": [],
   "source": [
    "# df_train1 = df_train.copy()\n",
    "# df_val1 = df_val.copy()\n",
    "# df_test1 = df_test.copy()"
   ]
  },
  {
   "cell_type": "code",
   "execution_count": 109,
   "metadata": {},
   "outputs": [],
   "source": [
    "df_train = df_train1.copy()\n",
    "df_val = df_val1.copy()\n",
    "df_test = df_test1.copy()"
   ]
  },
  {
   "cell_type": "code",
   "execution_count": 110,
   "metadata": {},
   "outputs": [],
   "source": [
    "uids = df_train['icustayid'].unique()\n",
    "len_trajecties = []\n",
    "for uid in uids:\n",
    "    len_trajecties.append(len(df_train[df_train['icustayid']==uid]))"
   ]
  },
  {
   "cell_type": "code",
   "execution_count": 111,
   "metadata": {},
   "outputs": [],
   "source": [
    "mid_len = int((sum(len_trajecties)-len(len_trajecties))/len(len_trajecties))//2+1"
   ]
  },
  {
   "cell_type": "code",
   "execution_count": 112,
   "metadata": {},
   "outputs": [
    {
     "data": {
      "text/plain": [
       "7"
      ]
     },
     "execution_count": 112,
     "metadata": {},
     "output_type": "execute_result"
    }
   ],
   "source": [
    "mid_len"
   ]
  },
  {
   "cell_type": "code",
   "execution_count": 113,
   "metadata": {},
   "outputs": [],
   "source": [
    "############ 奖励测试 ##############\n",
    "# uids = df_test['icustayid'].unique()\n",
    "# length = 1\n",
    "# C4 = 0.5#0.1\n",
    "# for t in range(1,len(df_test)):\n",
    "#     if df_test.loc[t,'icustayid']!=df_test.loc[t-1,'icustayid']:\n",
    "#         length = 1\n",
    "#         continue\n",
    "#     df_test.loc[t,'reward']+= length*C4\n",
    "#     length +=1\n",
    "# length = 1\n",
    "# for t in range(1,len(df_train)):\n",
    "#     if df_train.loc[t,'icustayid']!=df_train.loc[t-1,'icustayid']:\n",
    "#         length = 1\n",
    "#         continue\n",
    "#     df_train.loc[t,'reward']+= length*C4\n",
    "#     length +=1\n",
    "# length = 1\n",
    "# for t in range(1,len(df_val)):\n",
    "#     if df_val.loc[t,'icustayid']!=df_val.loc[t-1,'icustayid']:\n",
    "#         length = 1\n",
    "#         continue\n",
    "#     df_val.loc[t,'reward']+= length*C4\n",
    "#     length +=1\n",
    "############ 奖励测试 ##############\n",
    "\n",
    "# length = 0\n",
    "# uid = 0 \n",
    "# #C4 = 0.5#0.1\n",
    "# C4 = 0.1\n",
    "# for t in range(1,len(df_test)):\n",
    "#     if df_test.loc[t,'icustayid']!=df_test.loc[t-1,'icustayid']:\n",
    "#         length = 0\n",
    "#         #len_curent = len_trajecties[uid]\n",
    "#         uid =+1\n",
    "#         continue\n",
    "#     df_test.loc[t-1,'reward']+= (length-mid_len)*C4\n",
    "#     length +=1\n",
    "length = 0\n",
    "uid = 0 \n",
    "#C4 = 0.5#0.1\n",
    "C4 = 0.10\n",
    "for t in range(1,len(df_train)):\n",
    "    if df_train.loc[t,'icustayid']!=df_train.loc[t-1,'icustayid']:\n",
    "        length = 0\n",
    "        uid =+1\n",
    "        continue\n",
    "    df_train.loc[t-1,'reward']+= (length-mid_len)*(C4+ length*0.003)\n",
    "    length +=1\n",
    "length = 0\n",
    "uid = 0 \n",
    "for t in range(1,len(df_test)):\n",
    "    if df_test.loc[t,'icustayid']!=df_test.loc[t-1,'icustayid']:\n",
    "        length = 0\n",
    "        uid =+1\n",
    "        continue\n",
    "    df_test.loc[t-1,'reward']+= (length-mid_len)*(C4+ length*0.003)\n",
    "    length +=1\n",
    "length = 0\n",
    "uid = 0 \n",
    "for t in range(1,len(df_val)):\n",
    "    if df_val.loc[t,'icustayid']!=df_val.loc[t-1,'icustayid']:\n",
    "        length = 0\n",
    "        uid =+1\n",
    "        continue\n",
    "    df_val.loc[t-1,'reward']+= (length-mid_len)*(C4+ length*0.003)\n",
    "    length +=1\n",
    "length = 1\n",
    "\n",
    "# for t in range(1,len(df_train)):\n",
    "#     if df_train.loc[t,'icustayid']!=df_train.loc[t-1,'icustayid']:\n",
    "#         length = 1\n",
    "#         continue\n",
    "#     df_train.loc[t,'reward']+= length*C4\n",
    "#     length +=1\n",
    "# length = 1\n",
    "# for t in range(1,len(df_val)):\n",
    "#     if df_val.loc[t,'icustayid']!=df_val.loc[t-1,'icustayid']:\n",
    "#         length = 1\n",
    "#         continue\n",
    "#     df_val.loc[t,'reward']+= length*C4\n",
    "#     length +=1"
   ]
  },
  {
   "cell_type": "code",
   "execution_count": 6,
   "metadata": {},
   "outputs": [
    {
     "data": {
      "text/plain": [
       "65.05348661945744"
      ]
     },
     "execution_count": 6,
     "metadata": {},
     "output_type": "execute_result"
    }
   ],
   "source": [
    "unique_ids = df_test['icustayid'].unique()\n",
    "phys_vals = []\n",
    "gamma = 0.99\n",
    "for uid in unique_ids:\n",
    "    traj = df_test.loc[df_test['icustayid'] == uid]\n",
    "    ret = 0\n",
    "    reversed_traj = traj.iloc[::-1]\n",
    "    for row in reversed_traj.index:\n",
    "        ret = reversed_traj.loc[row,'reward'] + gamma*ret\n",
    "    phys_vals.append(ret)\n",
    "np.mean(phys_vals)"
   ]
  },
  {
   "cell_type": "code",
   "execution_count": 115,
   "metadata": {},
   "outputs": [],
   "source": [
    "# df_train_disc['reward'] += np.array(train_rewards)\n",
    "# df_val_disc['reward'] += np.array(val_rewards)\n",
    "# df_test_disc['reward'] += np.array(test_rewards)"
   ]
  },
  {
   "cell_type": "code",
   "execution_count": 13,
   "metadata": {},
   "outputs": [],
   "source": [
    "df_train.to_csv('../data_o/rl_train_data_final_or.csv',index=False)\n",
    "df_val.to_csv('../data_o/rl_val_data_final_or.csv', index=False)\n",
    "df_test.to_csv('../data_o/rl_test_data_final_or.csv',index=False)"
   ]
  },
  {
   "cell_type": "code",
   "execution_count": null,
   "metadata": {},
   "outputs": [],
   "source": [
    "# df_train_disc.to_csv('../data/rl_train_data_final_disc.csv',index=False)\n",
    "# df_val_disc.to_csv('../data/rl_val_data_final_disc.csv', index=False)\n",
    "# df_test_disc.to_csv('../data/rl_test_data_final_disc.csv',index=False)"
   ]
  },
  {
   "cell_type": "code",
   "execution_count": null,
   "metadata": {},
   "outputs": [],
   "source": [
    "train_rewards.head(n=20)"
   ]
  },
  {
   "cell_type": "code",
   "execution_count": null,
   "metadata": {},
   "outputs": [],
   "source": [
    "df_train['reward'].head(n=20)"
   ]
  },
  {
   "cell_type": "code",
   "execution_count": null,
   "metadata": {},
   "outputs": [],
   "source": []
  }
 ],
 "metadata": {
  "anaconda-cloud": {},
  "kernelspec": {
   "display_name": "Python 3 (ipykernel)",
   "language": "python",
   "name": "python3"
  },
  "language_info": {
   "codemirror_mode": {
    "name": "ipython",
    "version": 3
   },
   "file_extension": ".py",
   "mimetype": "text/x-python",
   "name": "python",
   "nbconvert_exporter": "python",
   "pygments_lexer": "ipython3",
   "version": "3.7.10"
  }
 },
 "nbformat": 4,
 "nbformat_minor": 2
}
