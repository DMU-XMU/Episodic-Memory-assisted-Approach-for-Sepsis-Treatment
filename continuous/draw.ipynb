{
 "cells": [
  {
   "cell_type": "code",
   "execution_count": 1,
   "id": "b9cef282",
   "metadata": {},
   "outputs": [],
   "source": [
    "import numpy as np\n",
    "import pickle\n",
    "import pandas as pd\n",
    "import matplotlib.pyplot as plt"
   ]
  },
  {
   "cell_type": "code",
   "execution_count": 2,
   "id": "91a2d534",
   "metadata": {},
   "outputs": [
    {
     "name": "stdout",
     "output_type": "stream",
     "text": [
      "(195124, 64)\n"
     ]
    }
   ],
   "source": [
    "df_train = pd.read_csv('../data_o/rl_train_data_final_cont.csv')\n",
    "df_test = pd.read_csv('../data_o/rl_test_data_final_cont.csv')\n",
    "df_val = pd.read_csv('../data_o/rl_val_data_final_cont.csv')\n",
    "print(df_train.shape)"
   ]
  },
  {
   "cell_type": "code",
   "execution_count": 3,
   "id": "7f028e21",
   "metadata": {},
   "outputs": [],
   "source": [
    "df_train = pd.read_csv('../data_o/rl_train_data_final_cont.csv')  #Verify data correctness\n",
    "df_d = pd.read_csv('../data_o/rl_train_data_discrete.csv')\n",
    "for i in range(len(df_train.index)):\n",
    "    if df_train.loc[i,'icustayid'] != df_d.loc[i,'icustayid']:\n",
    "        print(\"Data error!\")\n",
    "        break"
   ]
  },
  {
   "cell_type": "code",
   "execution_count": 1,
   "id": "5dfd0159",
   "metadata": {},
   "outputs": [],
   "source": [
    "######### add MC-return ##########\n",
    "# def add_mc_return(df):\n",
    "#     unique_ids = df['icustayid'].unique()\n",
    "#     gamma = 0.99\n",
    "#     index = 0\n",
    "#     mc = []\n",
    "#     df['Gt'] = 0\n",
    "#     for uid in unique_ids:\n",
    "#         traj = df.loc[df['icustayid'] == uid]\n",
    "#         ret = 0\n",
    "#         reversed_traj = traj.iloc[::-1]\n",
    "#         for row in reversed_traj.index:\n",
    "#             ret = reversed_traj.loc[row,'reward'] + gamma*ret\n",
    "#             mc.append(ret)\n",
    "#         for r in  mc[::-1]:\n",
    "#             df.loc[index,'Gt'] = r\n",
    "#             index +=1\n",
    "#             mc = []\n",
    "#     print(\"done!\")\n",
    "#     return df\n",
    "# df_train = add_mc_return(df_train)\n",
    "# df_train.to_csv('../data_o/rl_train_data_final_cont.csv',index=False)\n",
    "\n"
   ]
  },
  {
   "cell_type": "code",
   "execution_count": 4,
   "id": "b9c1f71b",
   "metadata": {},
   "outputs": [],
   "source": [
    "DR_list_10= np.array(pickle.load(open('../continuous/estimate/dqn/WDR_list10.p', \"rb\")))\n",
    "DR_list_9= np.array(pickle.load(open('../continuous/estimate/dqn/WDR_list9.p', \"rb\")))\n",
    "DR_list_8= np.array(pickle.load(open('../continuous/estimate/dqn/WDR_list8.p', \"rb\")))      # alpha = 0.0 、10\n",
    "DR_list_7= np.array(pickle.load(open('../continuous/estimate/dqn/WDR_list7.p', \"rb\")))\n",
    "DR_list_6= np.array(pickle.load(open('../continuous/estimate/dqn/WDR_list6.p', \"rb\")))\n",
    "DR_list_5= np.array(pickle.load(open('../continuous/estimate/dqn/WDR_list5.p', \"rb\")))\n",
    "DR_list_4= np.array(pickle.load(open('../continuous/estimate/dqn/WDR_list4.p', \"rb\")))\n",
    "DR_list_3= np.array(pickle.load(open('../continuous/estimate/dqn/WDR_list3.p', \"rb\")))\n",
    "DR_list_2= np.array(pickle.load(open('../continuous/estimate/dqn/WDR_list2.p', \"rb\")))\n",
    "DR_list_1= np.array(pickle.load(open('../continuous/estimate/dqn/WDR_list1.p', \"rb\")))\n",
    "\n",
    "DR_list_j1= np.array(pickle.load(open('../continuous/estimate/mc/WDR_list1_75.p', \"rb\")))    # alpha = 0.075、10\n",
    "DR_list_j2= np.array(pickle.load(open('../continuous/estimate/mc/WDR_list2_75.p', \"rb\")))\n",
    "DR_list_j3= np.array(pickle.load(open('../continuous/estimate/mc/WDR_list3_75.p', \"rb\")))\n",
    "DR_list_j4= np.array(pickle.load(open('../continuous/estimate/mc/WDR_list4_75.p', \"rb\")))\n",
    "DR_list_j5= np.array(pickle.load(open('../continuous/estimate/mc/WDR_list5_75.p', \"rb\")))\n",
    "DR_list_j6= np.array(pickle.load(open('../continuous/estimate/mc/WDR_list6_75.p', \"rb\")))\n",
    "DR_list_j7= np.array(pickle.load(open('../continuous/estimate/mc/WDR_list7_75.p', \"rb\")))\n",
    "DR_list_j8= np.array(pickle.load(open('../continuous/estimate/mc/WDR_list8_75.p', \"rb\")))\n",
    "DR_list_j9= np.array(pickle.load(open('../continuous/estimate/mc/WDR_list9_75.p', \"rb\")))\n",
    "DR_list_j10= np.array(pickle.load(open('../continuous/estimate/mc/WDR_list10_75.p', \"rb\")))\n",
    "\n",
    "DR_list_a1= np.array(pickle.load(open('../continuous/estimate/mc/WDR_list14_0.15.p', \"rb\")))    # alpha = 0.15、10\n",
    "DR_list_a2= np.array(pickle.load(open('../continuous/estimate/mc/WDR_list11_0.15.p', \"rb\")))\n",
    "DR_list_a3= np.array(pickle.load(open('../continuous/estimate/mc/WDR_list12_0.15.p', \"rb\")))\n",
    "DR_list_a4= np.array(pickle.load(open('../continuous/estimate/mc/WDR_list13_0.15.p', \"rb\")))\n",
    "DR_list_a5= np.array(pickle.load(open('../continuous/estimate/mc/WDR_list10_0.15.p', \"rb\")))\n",
    "DR_list_a6= np.array(pickle.load(open('../continuous/estimate/mc/WDR_list9_0.15.p', \"rb\")))\n",
    "DR_list_a7= np.array(pickle.load(open('../continuous/estimate/mc/WDR_list8_0.15.p', \"rb\")))\n",
    "DR_list_a8= np.array(pickle.load(open('../continuous/estimate/mc/WDR_list7_0.15.p', \"rb\")))\n",
    "DR_list_a9= np.array(pickle.load(open('../continuous/estimate/mc/WDR_list6_0.15.p', \"rb\")))\n",
    "DR_list_a10= np.array(pickle.load(open('../continuous/estimate/mc/WDR_list5_0.15.p', \"rb\")))\n",
    "\n",
    "DR_list_e1= np.array(pickle.load(open('../continuous/estimate/mc/WDR_list_0.3.p', \"rb\")))    # alpha = 0.3(ours)、10\n",
    "DR_list_e2= np.array(pickle.load(open('../continuous/estimate/mc/WDR_list1_0.3.p', \"rb\")))\n",
    "DR_list_e3= np.array(pickle.load(open('../continuous/estimate/mc/WDR_list2_0.3.p', \"rb\")))\n",
    "DR_list_e4= np.array(pickle.load(open('../continuous/estimate/mc/WDR_list3_0.3.p', \"rb\")))\n",
    "DR_list_e5= np.array(pickle.load(open('../continuous/estimate/mc/WDR_list4_0.3.p', \"rb\")))\n",
    "DR_list_e6= np.array(pickle.load(open('../continuous/estimate/mc/WDR_list5_0.3.p', \"rb\")))\n",
    "DR_list_e7= np.array(pickle.load(open('../continuous/estimate/mc/WDR_list6_0.3.p', \"rb\")))\n",
    "DR_list_e8= np.array(pickle.load(open('../continuous/estimate/mc/WDR_list7_0.3.p', \"rb\")))\n",
    "DR_list_e9= np.array(pickle.load(open('../continuous/estimate/mc/WDR_list8_0.3.p', \"rb\")))\n",
    "DR_list_e10= np.array(pickle.load(open('../continuous/estimate/mc/WDR_list9_0.3.p', \"rb\")))\n",
    "\n",
    "DR_list_g1= np.array(pickle.load(open('../continuous/estimate/mc/WDR_list_0.45.p', \"rb\")))    # alpha = 0.45、10\n",
    "DR_list_g2= np.array(pickle.load(open('../continuous/estimate/mc/WDR_list1_0.45.p', \"rb\")))\n",
    "DR_list_g3= np.array(pickle.load(open('../continuous/estimate/mc/WDR_list2_0.45.p', \"rb\")))\n",
    "DR_list_g4= np.array(pickle.load(open('../continuous/estimate/mc/WDR_list3_0.45.p', \"rb\")))\n",
    "DR_list_g5= np.array(pickle.load(open('../continuous/estimate/mc/WDR_list4_0.45.p', \"rb\")))\n",
    "DR_list_g6= np.array(pickle.load(open('../continuous/estimate/mc/WDR_list5_0.45.p', \"rb\")))\n",
    "DR_list_g7= np.array(pickle.load(open('../continuous/estimate/mc/WDR_list6_0.45.p', \"rb\")))\n",
    "DR_list_g8= np.array(pickle.load(open('../continuous/estimate/mc/WDR_list7_0.45.p', \"rb\")))\n",
    "DR_list_g9= np.array(pickle.load(open('../continuous/estimate/mc/WDR_list8_0.45.p', \"rb\")))\n",
    "DR_list_g10= np.array(pickle.load(open('../continuous/estimate/mc/WDR_list9_0.45.p', \"rb\")))\n",
    "\n",
    "DR_list_f1= np.array(pickle.load(open('../continuous/estimate/mc/WDR_list_0.6.p', \"rb\")))    # alpha = 0.6、10\n",
    "DR_list_f2= np.array(pickle.load(open('../continuous/estimate/mc/WDR_list1_0.6.p', \"rb\")))\n",
    "DR_list_f3= np.array(pickle.load(open('../continuous/estimate/mc/WDR_list2_0.6.p', \"rb\")))\n",
    "DR_list_f4= np.array(pickle.load(open('../continuous/estimate/mc/WDR_list3_0.6.p', \"rb\")))\n",
    "DR_list_f5= np.array(pickle.load(open('../continuous/estimate/mc/WDR_list4_0.6.p', \"rb\")))\n",
    "DR_list_f6= np.array(pickle.load(open('../continuous/estimate/mc/WDR_list5_0.6.p', \"rb\")))\n",
    "DR_list_f7= np.array(pickle.load(open('../continuous/estimate/mc/WDR_list6_0.6.p', \"rb\")))\n",
    "DR_list_f8= np.array(pickle.load(open('../continuous/estimate/mc/WDR_list7_0.6.p', \"rb\")))\n",
    "DR_list_f9= np.array(pickle.load(open('../continuous/estimate/mc/WDR_list8_0.6.p', \"rb\")))\n",
    "DR_list_f10= np.array(pickle.load(open('../continuous/estimate/mc/WDR_list9_0.6.p', \"rb\")))\n",
    "\n",
    "\n",
    "DR_list_d1= np.array(pickle.load(open('../continuous/estimate/mc/WDR_list1_1.p', \"rb\")))     # alpha = 1、10\n",
    "DR_list_d2= np.array(pickle.load(open('../continuous/estimate/mc/WDR_list2_1.p', \"rb\")))\n",
    "DR_list_d3= np.array(pickle.load(open('../continuous/estimate/mc/WDR_list3_1.p', \"rb\")))\n",
    "DR_list_d4= np.array(pickle.load(open('../continuous/estimate/mc/WDR_list4_1.p', \"rb\")))\n",
    "DR_list_d5= np.array(pickle.load(open('../continuous/estimate/mc/WDR_list5_1.p', \"rb\")))     \n",
    "DR_list_d6= np.array(pickle.load(open('../continuous/estimate/mc/WDR_list6_1.p', \"rb\")))\n",
    "DR_list_d7= np.array(pickle.load(open('../continuous/estimate/mc/WDR_list7_1.p', \"rb\")))\n",
    "DR_list_d8= np.array(pickle.load(open('../continuous/estimate/mc/WDR_list8_1.p', \"rb\")))\n",
    "DR_list_d9= np.array(pickle.load(open('../continuous/estimate/mc/WDR_list9_1.p', \"rb\")))\n",
    "DR_list_d10= np.array(pickle.load(open('../continuous/estimate/mc/WDR_list10_1.p', \"rb\")))\n",
    "\n",
    "DR_list_i1= np.array(pickle.load(open('../continuous/estimate/mc/WDR_list_inf.p', \"rb\")))    # alpha = inf、10\n",
    "DR_list_i2= np.array(pickle.load(open('../continuous/estimate/mc/WDR_list_inf1.p', \"rb\")))\n",
    "DR_list_i3= np.array(pickle.load(open('../continuous/estimate/mc/WDR_list_inf2.p', \"rb\")))\n",
    "DR_list_i4= np.array(pickle.load(open('../continuous/estimate/mc/WDR_list_inf3.p', \"rb\")))\n",
    "DR_list_i5= np.array(pickle.load(open('../continuous/estimate/mc/WDR_list_inf4.p', \"rb\")))\n",
    "DR_list_i6= np.array(pickle.load(open('../continuous/estimate/mc/WDR_list_inf5.p', \"rb\")))\n",
    "DR_list_i7= np.array(pickle.load(open('../continuous/estimate/mc/WDR_list_inf6.p', \"rb\")))\n",
    "DR_list_i8= np.array(pickle.load(open('../continuous/estimate/mc/WDR_list_inf7.p', \"rb\")))\n",
    "DR_list_i9= np.array(pickle.load(open('../continuous/estimate/mc/WDR_list_inf8.p', \"rb\")))\n",
    "DR_list_i10= np.array(pickle.load(open('../continuous/estimate/mc/WDR_list_inf9.p', \"rb\")))"
   ]
  },
  {
   "cell_type": "code",
   "execution_count": 6,
   "id": "77851993",
   "metadata": {},
   "outputs": [
    {
     "name": "stdout",
     "output_type": "stream",
     "text": [
      "[ 2.66705296  2.94933889  4.69775295  6.2715047   8.10302474  9.80916064\n",
      " 10.56732852 10.96151075 11.22128264 10.93334125 10.86277401 10.8337496\n",
      " 10.68104961 10.57252242 10.45713727 10.37232884 10.15486677 10.14932847\n",
      " 10.07625964  9.98578659  9.88681381  9.9096165   9.60650959  9.32883334\n",
      "  9.07447016  8.9161028   8.60486353  8.37494361  7.88766829  7.76646877\n",
      "  7.40839434  7.22358497  6.99250966  6.64039021  6.44049485  6.08370466\n",
      "  6.01094275  5.76148037  5.7189706   5.71191806  5.50059424  5.36467287\n",
      "  5.20148677  5.07168434  5.05299446  5.01294249  4.92730634  4.81942415\n",
      "  4.82667724  4.73426657  4.59422877  4.60592642  4.46670542  4.39646108\n",
      "  4.27486832  4.22645048  4.26251931  4.10747072  4.03649805  3.99435401\n",
      "  4.03388814  4.10580219  4.04181177  4.00287588  4.00645498  3.97084576\n",
      "  3.96332579  3.98435452  3.98765383  3.8332798 ] 0.7632000187701236\n"
     ]
    }
   ],
   "source": [
    "########### Calculate the WDR value at the end of training ################\n",
    "avg=(DR_list_i1+DR_list_i2+DR_list_i3+DR_list_i4+\\\n",
    "         DR_list_i5+DR_list_i6+DR_list_i7+DR_list_i8+DR_list_i9+DR_list_i10)/10.0\n",
    "std=np.std([DR_list_i1[-1],DR_list_i2[-1],DR_list_i3[-1],DR_list_i4[-1],DR_list_i5[-1],\\\n",
    "        DR_list_i6[-1],DR_list_i7[-1],DR_list_i8[-1],DR_list_i9[-1],DR_list_i10[-1]])\n",
    "print(avg,std)"
   ]
  },
  {
   "cell_type": "code",
   "execution_count": 7,
   "id": "b8c95d12",
   "metadata": {},
   "outputs": [
    {
     "data": {
      "text/plain": [
       "array([-0.33617331,  1.17162546,  2.13196999,  2.99874107,  4.59292326,\n",
       "        7.26958745,  7.8522976 ,  7.84153629,  8.96356654,  8.9585163 ,\n",
       "        8.43648993,  8.59581038, 10.80775708, 10.84460629, 10.32442287,\n",
       "       11.4649526 , 11.17566141, 10.9165908 , 11.0071154 , 11.72243415,\n",
       "       11.28943404, 10.77951991, 10.37222622, 10.57535916, 10.71171677,\n",
       "       11.39166087, 11.89309459, 11.14658336, 11.5964658 , 11.44924884,\n",
       "       11.96749021, 11.26957396, 11.82591699, 10.75984806, 11.04748418,\n",
       "       10.92268261, 10.71105455, 11.29218977, 11.42116846, 11.49082379,\n",
       "       10.99596934, 10.55914331, 10.34942161, 11.61999544, 11.39359598,\n",
       "        9.92070569, 10.8303117 , 10.53693993, 10.27409768, 10.59862454,\n",
       "       11.43149957, 11.17432401, 10.45009507, 10.94274473, 10.78003221,\n",
       "       10.66024511, 10.39157913, 10.11201078, 10.99392767, 10.80781734,\n",
       "       10.9221572 , 11.34759587, 11.39006489, 11.09640728, 11.13654474,\n",
       "       11.09385253, 10.97741669, 10.72331414, 10.51215875, 10.88165676,\n",
       "       10.45616764, 10.27829452, 11.17463475, 10.70690569, 11.00034786,\n",
       "       10.59032689, 10.86204949, 11.26815896, 11.44876085, 11.10819388,\n",
       "       11.1063293 , 10.06156821, 10.28846742, 10.90565754, 10.98720325,\n",
       "       10.93794302, 10.35502514, 11.18948994, 10.8146364 , 11.07153565,\n",
       "       10.81636219, 10.67370273, 11.24041877, 11.23913338, 10.9774954 ,\n",
       "       10.88626807, 11.58501124, 11.40787589, 11.00150217, 10.55327831])"
      ]
     },
     "execution_count": 7,
     "metadata": {},
     "output_type": "execute_result"
    }
   ],
   "source": [
    "DR_list_10"
   ]
  },
  {
   "cell_type": "code",
   "execution_count": 9,
   "id": "415fc46e",
   "metadata": {},
   "outputs": [
    {
     "name": "stderr",
     "output_type": "stream",
     "text": [
      "C:\\ProgramData\\Miniconda3\\envs\\ldyx64\\lib\\site-packages\\ipykernel_launcher.py:26: MatplotlibDeprecationWarning: savefig() got unexpected keyword argument \"figsize\" which is no longer supported as of 3.3 and will become an error two minor releases later\n"
     ]
    },
    {
     "data": {
      "image/png": "[encoded data removed]",
      "text/plain": [
       "<Figure size 432x360 with 1 Axes>"
      ]
     },
     "metadata": {
      "needs_background": "light"
     },
     "output_type": "display_data"
    }
   ],
   "source": [
    "################ Draw a real-time evaluation curve #######################\n",
    "fig = plt.figure(figsize=(6, 5))  # size\n",
    "ax = fig.add_subplot(1, 1, 1)\n",
    "ax.plot(np.repeat(9.776,70), 'k--', label='Physician policy') \n",
    "ax.plot((DR_list_1+DR_list_2+DR_list_3+DR_list_4+DR_list_5+\\\n",
    "        DR_list_6+DR_list_7+DR_list_8+DR_list_9[0:70]+DR_list_10[0:70])/10.0, 'k', label=r'$\\beta=0,\\mu=1$(D3QN) ')  \n",
    "ax.plot((DR_list_j1+DR_list_j2+DR_list_j3+DR_list_j4+\\\n",
    "         DR_list_j5+DR_list_j6+DR_list_j7+DR_list_j8+DR_list_j9+DR_list_j10)/10.0, '', label=r'$\\beta/\\mu =0.075$')  \n",
    "ax.plot((DR_list_a1+DR_list_a2+DR_list_a3+DR_list_a4+\\\n",
    "         DR_list_a5+DR_list_a6+DR_list_a7+DR_list_a8+DR_list_a9+DR_list_a10)/10.0, 'b', label=r'$\\beta/\\mu =0.15$') \n",
    "ax.plot((DR_list_e1+DR_list_e2+DR_list_e3+DR_list_e4+\\\n",
    "         DR_list_e5+DR_list_e6+DR_list_e7+DR_list_e8+DR_list_e9+DR_list_e10)/10.0, 'r', label=r'$\\beta/\\mu=0.30$')  \n",
    "ax.plot((DR_list_g1+DR_list_g2+DR_list_g3+DR_list_g4+\\\n",
    "         DR_list_g5+DR_list_g6+DR_list_g7+DR_list_g8+DR_list_g9+DR_list_g10)/10.0, '', label=r'$\\beta/\\mu=0.45$')\n",
    "ax.plot((DR_list_f1+DR_list_f2+DR_list_f3+DR_list_f4+\\\n",
    "         DR_list_f5+DR_list_f6+DR_list_f7+DR_list_f8+DR_list_f9+DR_list_f10)/10.0, '', label=r'$\\beta/\\mu=0.60$')  \n",
    "ax.plot((DR_list_d1+DR_list_d2+DR_list_d3+DR_list_d4+\\\n",
    "         DR_list_d5+DR_list_d6+DR_list_d7+DR_list_d8+DR_list_d9+DR_list_d10)/10.0, '', label=r'$\\beta/\\mu=1.00$')  \n",
    "ax.plot((DR_list_i1+DR_list_i2+DR_list_i3+DR_list_i4+\\\n",
    "        DR_list_i5+DR_list_i6+DR_list_i7+DR_list_i8+DR_list_i9+DR_list_i10)/10.0, 'olive', label=r'$\\beta=1,\\mu=0$')  \n",
    "\n",
    "ax.legend(bbox_to_anchor=(0.11, 0.01), loc=3, borderaxespad=0,prop={'family': 'Times New Roman', 'size': 11})  # label\n",
    "ax.set_xlabel(r'$\\times1000$ Steps',fontsize=15, family = 'Times New Roman')  \n",
    "ax.set_ylabel('WDR Estimator Value',fontsize=15, family = 'Times New Roman')  \n",
    "plt.yticks(size=16,family = 'Times New Roman')\n",
    "plt.xticks(size=16,family = 'Times New Roman')\n",
    "plt.savefig(fname=\"WDR.pdf\",figsize=[60,50])\n",
    "plt.show()  # show"
   ]
  },
  {
   "cell_type": "code",
   "execution_count": null,
   "id": "65ac430e",
   "metadata": {},
   "outputs": [],
   "source": []
  },
  {
   "cell_type": "code",
   "execution_count": 115,
   "id": "c19c9461",
   "metadata": {},
   "outputs": [],
   "source": [
    "q_vals_path = '../continuous/estimate/mc1_alpha=0.075/dqn_normal_actions_test.p'\n",
    "q_vals_test = pickle.load(open( q_vals_path, \"rb\" ))"
   ]
  },
  {
   "cell_type": "code",
   "execution_count": 116,
   "id": "2dad0aba",
   "metadata": {},
   "outputs": [
    {
     "data": {
      "text/plain": [
       "<AxesSubplot:>"
      ]
     },
     "execution_count": 116,
     "metadata": {},
     "output_type": "execute_result"
    },
    {
     "data": {
      "image/png": "[encoded data removed]",
      "text/plain": [
       "<Figure size 432x288 with 1 Axes>"
      ]
     },
     "metadata": {
      "needs_background": "light"
     },
     "output_type": "display_data"
    }
   ],
   "source": [
    "pd.Series(q_vals_test).hist(bins=50)"
   ]
  },
  {
   "cell_type": "code",
   "execution_count": 18,
   "id": "ea7a4dfc",
   "metadata": {},
   "outputs": [
    {
     "name": "stdout",
     "output_type": "stream",
     "text": [
      "3623\n"
     ]
    }
   ],
   "source": [
    "phys_q = pickle.load(open('../continuous/estimate/rnnf3/dqn_normal_actions_train.p', \"rb\" ))\n",
    "df_test = pd.read_csv('../data_o/rl_test_data_final_cont.csv')\n",
    "a = df_test['reward'].value_counts()\n",
    "print(a[15])\n",
    "#pd.Series(df_test[]).hist(bins=50)\n",
    "#print(phys_q)"
   ]
  },
  {
   "cell_type": "code",
   "execution_count": 118,
   "id": "871bc75c",
   "metadata": {},
   "outputs": [],
   "source": [
    "unique_ids = df_test['icustayid'].unique()"
   ]
  },
  {
   "cell_type": "code",
   "execution_count": 119,
   "id": "b0315b5d",
   "metadata": {},
   "outputs": [
    {
     "data": {
      "text/plain": [
       "9.919411204931698"
      ]
     },
     "execution_count": 119,
     "metadata": {},
     "output_type": "execute_result"
    }
   ],
   "source": [
    "phys_vals = []\n",
    "gamma = 0.99\n",
    "for uid in unique_ids:\n",
    "    traj = df_test.loc[df_test['icustayid'] == uid]\n",
    "    ret = 0\n",
    "    reversed_traj = traj.iloc[::-1]\n",
    "    for row in reversed_traj.index:\n",
    "        ret = reversed_traj.loc[row,'reward'] + gamma*ret\n",
    "    phys_vals.append(ret)\n",
    "np.mean(phys_vals)"
   ]
  },
  {
   "cell_type": "code",
   "execution_count": null,
   "id": "9381e2ef",
   "metadata": {},
   "outputs": [],
   "source": []
  }
 ],
 "metadata": {
  "kernelspec": {
   "display_name": "Python 3",
   "language": "python",
   "name": "python3"
  },
  "language_info": {
   "codemirror_mode": {
    "name": "ipython",
    "version": 3
   },
   "file_extension": ".py",
   "mimetype": "text/x-python",
   "name": "python",
   "nbconvert_exporter": "python",
   "pygments_lexer": "ipython3",
   "version": "3.6.5"
  }
 },
 "nbformat": 4,
 "nbformat_minor": 5
}
