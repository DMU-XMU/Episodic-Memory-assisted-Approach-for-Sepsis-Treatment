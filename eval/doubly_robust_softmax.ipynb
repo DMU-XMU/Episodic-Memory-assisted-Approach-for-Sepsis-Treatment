{
 "cells": [
  {
   "cell_type": "code",
   "execution_count": 1,
   "metadata": {},
   "outputs": [],
   "source": [
    "# Implements the Doubly robust value estimator for the learned policies"
   ]
  },
  {
   "cell_type": "code",
   "execution_count": 87,
   "metadata": {},
   "outputs": [],
   "source": [
    "import pandas as pd\n",
    "import numpy as np\n",
    "import pickle\n",
    "def softmax(x, axis=None):\n",
    "    x = x - x.max(axis=axis, keepdims=True)\n",
    "    y = np.exp(x)\n",
    "    return y / y.sum(axis=axis, keepdims=True)"
   ]
  },
  {
   "cell_type": "code",
   "execution_count": 88,
   "metadata": {
    "scrolled": true
   },
   "outputs": [],
   "source": [
    "df_train = pd.read_csv('../data/rl_train_data_final_cont_withC4_k.csv')"
   ]
  },
  {
   "cell_type": "code",
   "execution_count": 89,
   "metadata": {},
   "outputs": [],
   "source": [
    "df_val = pd.read_csv('../data/rl_val_data_final_cont_withC4_k.csv')"
   ]
  },
  {
   "cell_type": "code",
   "execution_count": 166,
   "metadata": {},
   "outputs": [],
   "source": [
    "df_test = pd.read_csv('../data/rl_test_data_final_cont.csv')"
   ]
  },
  {
   "cell_type": "code",
   "execution_count": 91,
   "metadata": {},
   "outputs": [],
   "source": [
    "# load in the policies for the physician on val and test sets\n",
    "phys_policy_val = pickle.load(open(\"val_policy.p\", \"rb\" ))\n",
    "phys_policy_test = pickle.load(open(\"test_policy.p\", \"rb\" ))\n",
    "phys_policy_test_KNN = pickle.load(open(\"test_policy_KNN.p\", \"rb\" ))"
   ]
  },
  {
   "cell_type": "code",
   "execution_count": 92,
   "metadata": {},
   "outputs": [],
   "source": [
    "# get the indices for indexing into the policy matrix. \n",
    "indices = phys_policy_test[:,4].astype(int) + 5\n",
    "phys_action_probs = phys_policy_test[range(len(phys_policy_test)),indices]"
   ]
  },
  {
   "cell_type": "code",
   "execution_count": 93,
   "metadata": {},
   "outputs": [],
   "source": [
    "# Two cells below - load the actions and q values associated with the agent policy - these are outputted by the\n",
    "# neural network used to learn the optimal policy and eval_policy respectively."
   ]
  },
  {
   "cell_type": "code",
   "execution_count": 150,
   "metadata": {},
   "outputs": [],
   "source": [
    "agent_actions = pickle.load(open('../continuous/dqn_normal_c4_k4444/dqn_normal_actions_test.p', \"rb\" ))"
   ]
  },
  {
   "cell_type": "code",
   "execution_count": 151,
   "metadata": {},
   "outputs": [
    {
     "data": {
      "text/plain": [
       "<AxesSubplot:>"
      ]
     },
     "execution_count": 151,
     "metadata": {},
     "output_type": "execute_result"
    },
    {
     "data": {
      "image/png": "[encoded data removed]",
      "text/plain": [
       "<Figure size 432x288 with 1 Axes>"
      ]
     },
     "metadata": {
      "needs_background": "light"
     },
     "output_type": "display_data"
    }
   ],
   "source": [
    "pd.Series(agent_actions).hist(bins=50)"
   ]
  },
  {
   "cell_type": "code",
   "execution_count": 152,
   "metadata": {},
   "outputs": [],
   "source": [
    "agent_qsa = pickle.load(open('../continuous/dqn_normal_c4_k4444/dqn_normal_Qsa_test.p', \"rb\" ))\n",
    "agent_qsa = np.array(agent_qsa)\n",
    "Pi_e = softmax(agent_qsa,axis=1)\n",
    "# phys_qsa = pickle.load(open('../continuous/phys_sarsa/phys_qsa_test.p', \"rb\" ))\n",
    "# phys_qsa = np.array(phys_qsa)"
   ]
  },
  {
   "cell_type": "code",
   "execution_count": 153,
   "metadata": {},
   "outputs": [
    {
     "data": {
      "text/plain": [
       "(55506, 25)"
      ]
     },
     "execution_count": 153,
     "metadata": {},
     "output_type": "execute_result"
    }
   ],
   "source": [
    "Pi_e.shape"
   ]
  },
  {
   "cell_type": "code",
   "execution_count": 154,
   "metadata": {},
   "outputs": [
    {
     "data": {
      "text/plain": [
       "10.22781"
      ]
     },
     "execution_count": 154,
     "metadata": {},
     "output_type": "execute_result"
    }
   ],
   "source": [
    "np.nansum(agent_qsa[2] * Pi_e[2])"
   ]
  },
  {
   "cell_type": "code",
   "execution_count": 155,
   "metadata": {},
   "outputs": [],
   "source": [
    "agent_q = pickle.load(open('../continuous/dqn_normal_c4_k4444/dqn_normal_q_test.p', \"rb\" ))"
   ]
  },
  {
   "cell_type": "code",
   "execution_count": 156,
   "metadata": {},
   "outputs": [
    {
     "data": {
      "text/plain": [
       "<AxesSubplot:>"
      ]
     },
     "execution_count": 156,
     "metadata": {},
     "output_type": "execute_result"
    },
    {
     "data": {
      "image/png": "[encoded data removed]",
      "text/plain": [
       "<Figure size 432x288 with 1 Axes>"
      ]
     },
     "metadata": {
      "needs_background": "light"
     },
     "output_type": "display_data"
    }
   ],
   "source": [
    "pd.Series(agent_q).hist(bins=50)"
   ]
  },
  {
   "cell_type": "code",
   "execution_count": 157,
   "metadata": {},
   "outputs": [],
   "source": [
    "# add the actions and q values associated with agent performance on the test set to the dataframe"
   ]
  },
  {
   "cell_type": "code",
   "execution_count": 158,
   "metadata": {},
   "outputs": [],
   "source": [
    "action_map = {}\n",
    "count = 0\n",
    "for iv in range(5):\n",
    "    for vaso in range(5):\n",
    "        action_map[(iv,vaso)] = count\n",
    "        count += 1"
   ]
  },
  {
   "cell_type": "code",
   "execution_count": 159,
   "metadata": {},
   "outputs": [],
   "source": [
    "unique_ids = df_test['icustayid'].unique()"
   ]
  },
  {
   "cell_type": "code",
   "execution_count": 160,
   "metadata": {},
   "outputs": [],
   "source": [
    "gamma = 0.99\n",
    "Pi_b = phys_policy_test_KNN \n",
    "#Pi_b = phys_policy_test[:,5:30] \n",
    "\n",
    "def DR_estimator(Pi_e,Pi_b,Q_agent,df_test):\n",
    "    rho_all = []\n",
    "    DR =[]\n",
    "    V_WDR = 0\n",
    "    ind = 0\n",
    "    for uid in unique_ids:\n",
    "        rho = []\n",
    "        traj = df_test.loc[df_test['icustayid'] == uid]\n",
    "        for t in range(len(traj)):\n",
    "            iv = df_test.loc[ind,'iv_input']\n",
    "            vaso = df_test.loc[ind, 'vaso_input']\n",
    "            phys_action = action_map[(iv,vaso)]    #行为策略 a\n",
    "            if np.isclose(Pi_b[ind][phys_action], 0.0): \n",
    "                rho_t = Pi_e[ind][phys_action] / 0.001\n",
    "            else:\n",
    "                rho_t = Pi_e[ind][phys_action] / Pi_b[ind][phys_action]  #df_test['phys_prob'][ind]   #使用的是数据行为动作            \n",
    "            rho.append(rho_t)\n",
    "            ind +=1\n",
    "        rho_all.append(np.array(rho))\n",
    "    max_H = max(len(rho) for rho in rho_all)\n",
    "    rho_cum = np.zeros((len(unique_ids), max_H))\n",
    "    for i, rho in enumerate(rho_all):\n",
    "        rho_tmp = np.ones(max_H)\n",
    "        rho_tmp[:len(rho)] = rho\n",
    "        rho_cum[i] = np.cumprod(rho_tmp)\n",
    "    ind = 0\n",
    "    n_traj = 0\n",
    "    for uid in unique_ids:\n",
    "        trajectory = df_test.loc[df_test['icustayid'] == uid]    \n",
    "        rho_cumulative = rho_cum[n_traj]\n",
    "        V_WDR = 0\n",
    "        for t in range(len(trajectory)):\n",
    "            iv = df_test.loc[ind,'iv_input']\n",
    "            vaso = df_test.loc[ind, 'vaso_input']\n",
    "            phys_action = action_map[(iv,vaso)]   #行为策略 a\n",
    "            Q_hat =  Q_agent[ind][phys_action]   #   test_set <s,a,r>\n",
    "            #V_hat = Q_agent[ind].max()\n",
    "            V_hat = np.nansum(Q_agent[ind] * Pi_e[ind])\n",
    "            r_t = df_test['reward'][ind]\n",
    "            rho_1t = rho_cumulative[t]\n",
    "            if t == 0:\n",
    "                rho_1t_1 = 1.0\n",
    "            else:\n",
    "                rho_1t_1 = rho_cumulative[t-1]\n",
    "            V_WDR = V_WDR + np.power(gamma, t) * (rho_1t * r_t - (rho_1t * Q_hat - rho_1t_1 * V_hat))\n",
    "            #print(V_WDR)\n",
    "            ind+=1\n",
    "        DR.append(V_WDR)\n",
    "        n_traj +=1\n",
    "    return DR"
   ]
  },
  {
   "cell_type": "code",
   "execution_count": 161,
   "metadata": {},
   "outputs": [
    {
     "data": {
      "text/plain": [
       "11.034645246439066"
      ]
     },
     "execution_count": 161,
     "metadata": {},
     "output_type": "execute_result"
    }
   ],
   "source": [
    "DR = DR_estimator(Pi_e,Pi_b,agent_qsa,df_test)\n",
    "np.nanmean(np.clip(DR, -15, 15))"
   ]
  },
  {
   "cell_type": "code",
   "execution_count": 164,
   "metadata": {},
   "outputs": [],
   "source": [
    "gamma = 0.99\n",
    "Pi_b = phys_policy_test_KNN \n",
    "#Pi_b = phys_policy_test[:,5:30] \n",
    "def WDR_estimator(Pi_e,Pi_b,Q_agent,df_test):\n",
    "    rho_all = []\n",
    "    DR =[]\n",
    "    V_WDR = 0\n",
    "    ind = 0\n",
    "    for uid in unique_ids:\n",
    "        rho = []\n",
    "        traj = df_test.loc[df_test['icustayid'] == uid]\n",
    "        for t in range(len(traj)):\n",
    "            iv = df_test.loc[ind,'iv_input']\n",
    "            vaso = df_test.loc[ind, 'vaso_input']\n",
    "            phys_action = action_map[(iv,vaso)]    #行为策略 a\n",
    "            #agent_a = df_test['agent_action'][ind]\n",
    "            \n",
    "            if np.isclose(Pi_b[ind][phys_action], 0.0): \n",
    "                rho_t = Pi_e[ind][phys_action] / 0.001\n",
    "            else:\n",
    "                rho_t = Pi_e[ind][phys_action] / Pi_b[ind][phys_action]  #df_test['phys_prob'][ind]   #使用的是数据行为动作\n",
    "            rho.append(rho_t)\n",
    "            ind +=1\n",
    "        rho_all.append(np.array(rho))\n",
    "    max_H = max(len(rho) for rho in rho_all)\n",
    "    rho_cum = np.zeros((len(unique_ids), max_H))\n",
    "    for i, rho in enumerate(rho_all):\n",
    "        rho_tmp = np.ones(max_H)\n",
    "        rho_tmp[:len(rho)] = rho\n",
    "        rho_cum[i] = np.cumprod(rho_tmp)   #累乘（uids，H）\n",
    "    weights = np.mean(rho_cum,axis=0)\n",
    "    print(weights)\n",
    "    ind = 0\n",
    "    n_traj = 0\n",
    "    for uid in unique_ids:\n",
    "        trajectory = df_test.loc[df_test['icustayid'] == uid]    \n",
    "        rho_cumulative = rho_cum[n_traj]\n",
    "        V_WDR = 0\n",
    "        for t in range(len(trajectory)):\n",
    "            iv = df_test.loc[ind,'iv_input']\n",
    "            vaso = df_test.loc[ind, 'vaso_input']\n",
    "            phys_action = action_map[(iv,vaso)]   #行为策略 a\n",
    "            Q_hat =  Q_agent[ind][phys_action]   #   test_set <s,a,r>\n",
    "            V_hat = np.nansum(Q_agent[ind] * Pi_e[ind])\n",
    "            #V_hat = Q_agent[ind].max()\n",
    "            r_t = df_test['reward'][ind]\n",
    "            rho_1t = rho_cumulative[t]/weights[t]\n",
    "            if t == 0:\n",
    "                rho_1t_1 = 1.0\n",
    "            else:\n",
    "                rho_1t_1 = rho_cumulative[t-1]/weights[t-1]\n",
    "            V_WDR = V_WDR + np.power(gamma, t) * (rho_1t * r_t - (rho_1t * Q_hat - rho_1t_1 * V_hat))\n",
    "            #print(V_WDR)\n",
    "            ind+=1\n",
    "        DR.append(V_WDR)\n",
    "        n_traj +=1\n",
    "    return DR"
   ]
  },
  {
   "cell_type": "code",
   "execution_count": 165,
   "metadata": {},
   "outputs": [
    {
     "name": "stdout",
     "output_type": "stream",
     "text": [
      "[5.91249341e-01 2.57311643e+00 1.03790110e+02 9.12595618e+00\n",
      " 5.81638896e+01 4.00438216e+02 4.56364208e+03 5.47490359e+02\n",
      " 1.79820922e+02 2.91118448e+02 1.11918193e+03 2.30248406e+03\n",
      " 6.12577474e+03 1.55512643e+04 1.70287340e+04 3.97827027e+04\n",
      " 2.21727172e+04 2.18888306e+04 2.98745139e+04 5.01274995e+04]\n"
     ]
    },
    {
     "data": {
      "text/plain": [
       "11.243053242216256"
      ]
     },
     "execution_count": 165,
     "metadata": {},
     "output_type": "execute_result"
    }
   ],
   "source": [
    "WDR = WDR_estimator(Pi_e,Pi_b,agent_qsa,df_test)\n",
    "np.mean(np.clip(WDR, -15, 15))"
   ]
  },
  {
   "cell_type": "code",
   "execution_count": 167,
   "metadata": {},
   "outputs": [
    {
     "data": {
      "text/plain": [
       "9.96289026695225"
      ]
     },
     "execution_count": 167,
     "metadata": {},
     "output_type": "execute_result"
    }
   ],
   "source": [
    "# Evaluate the average return under the physician policy on the test set.\n",
    "phys_vals = []\n",
    "gamma = 0.99\n",
    "for uid in unique_ids:\n",
    "    traj = df_test.loc[df_test['icustayid'] == uid]\n",
    "    ret = 0\n",
    "    reversed_traj = traj.iloc[::-1]\n",
    "    for row in reversed_traj.index:\n",
    "        ret = reversed_traj.loc[row,'reward'] + gamma*ret\n",
    "    phys_vals.append(ret)\n",
    "np.mean(phys_vals)"
   ]
  },
  {
   "cell_type": "code",
   "execution_count": null,
   "metadata": {},
   "outputs": [],
   "source": []
  },
  {
   "cell_type": "code",
   "execution_count": null,
   "metadata": {},
   "outputs": [],
   "source": []
  }
 ],
 "metadata": {
  "kernelspec": {
   "display_name": "Python 3 (ipykernel)",
   "language": "python",
   "name": "python3"
  },
  "language_info": {
   "codemirror_mode": {
    "name": "ipython",
    "version": 3
   },
   "file_extension": ".py",
   "mimetype": "text/x-python",
   "name": "python",
   "nbconvert_exporter": "python",
   "pygments_lexer": "ipython3",
   "version": "3.7.10"
  }
 },
 "nbformat": 4,
 "nbformat_minor": 2
}
