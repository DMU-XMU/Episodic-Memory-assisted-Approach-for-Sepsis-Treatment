{
 "cells": [
  {
   "cell_type": "code",
   "execution_count": 1,
   "metadata": {
    "collapsed": true
   },
   "outputs": [],
   "source": [
    "# learn an estimate of the reward function, ie Rhat = f(s,a)"
   ]
  },
  {
   "cell_type": "code",
   "execution_count": 241,
   "metadata": {},
   "outputs": [],
   "source": [
    "import tensorflow as tf\n",
    "import pandas as pd\n",
    "import numpy as np\n",
    "import random\n",
    "import matplotlib.pyplot as plt\n",
    "import os\n",
    "import  pickle"
   ]
  },
  {
   "cell_type": "code",
   "execution_count": 242,
   "metadata": {},
   "outputs": [],
   "source": [
    "os.environ['CUDA_VISIBLE_DEVICES'] = '1'"
   ]
  },
  {
   "cell_type": "code",
   "execution_count": 243,
   "metadata": {},
   "outputs": [],
   "source": [
    "train_data = pd.read_csv('../data/rl_train_data_final_cont.csv')"
   ]
  },
  {
   "cell_type": "code",
   "execution_count": 244,
   "metadata": {},
   "outputs": [],
   "source": [
    "val_data = pd.read_csv('../data/rl_val_data_final_cont.csv')"
   ]
  },
  {
   "cell_type": "code",
   "execution_count": 245,
   "metadata": {},
   "outputs": [],
   "source": [
    "test_data = pd.read_csv('../data/rl_test_data_final_cont.csv')"
   ]
  },
  {
   "cell_type": "code",
   "execution_count": 246,
   "metadata": {},
   "outputs": [
    {
     "data": {
      "text/html": [
       "<div>\n",
       "<style scoped>\n",
       "    .dataframe tbody tr th:only-of-type {\n",
       "        vertical-align: middle;\n",
       "    }\n",
       "\n",
       "    .dataframe tbody tr th {\n",
       "        vertical-align: top;\n",
       "    }\n",
       "\n",
       "    .dataframe thead th {\n",
       "        text-align: right;\n",
       "    }\n",
       "</style>\n",
       "<table border=\"1\" class=\"dataframe\">\n",
       "  <thead>\n",
       "    <tr style=\"text-align: right;\">\n",
       "      <th></th>\n",
       "      <th>bloc</th>\n",
       "      <th>icustayid</th>\n",
       "      <th>charttime</th>\n",
       "      <th>gender</th>\n",
       "      <th>age</th>\n",
       "      <th>elixhauser</th>\n",
       "      <th>re_admission</th>\n",
       "      <th>died_in_hosp</th>\n",
       "      <th>died_within_48h_of_out_time</th>\n",
       "      <th>mortality_90d</th>\n",
       "      <th>...</th>\n",
       "      <th>input_total</th>\n",
       "      <th>input_4hourly</th>\n",
       "      <th>output_total</th>\n",
       "      <th>output_4hourly</th>\n",
       "      <th>cumulated_balance</th>\n",
       "      <th>SOFA</th>\n",
       "      <th>SIRS</th>\n",
       "      <th>vaso_input</th>\n",
       "      <th>iv_input</th>\n",
       "      <th>reward</th>\n",
       "    </tr>\n",
       "  </thead>\n",
       "  <tbody>\n",
       "    <tr>\n",
       "      <th>0</th>\n",
       "      <td>0.000000</td>\n",
       "      <td>11</td>\n",
       "      <td>6898241400</td>\n",
       "      <td>1.0</td>\n",
       "      <td>0.902327</td>\n",
       "      <td>0.428571</td>\n",
       "      <td>1.0</td>\n",
       "      <td>0</td>\n",
       "      <td>0</td>\n",
       "      <td>0</td>\n",
       "      <td>...</td>\n",
       "      <td>0.0</td>\n",
       "      <td>0.0</td>\n",
       "      <td>0.000000</td>\n",
       "      <td>0.000000</td>\n",
       "      <td>0.223817</td>\n",
       "      <td>0.500000</td>\n",
       "      <td>0.00</td>\n",
       "      <td>0.0</td>\n",
       "      <td>0.0</td>\n",
       "      <td>0.383136</td>\n",
       "    </tr>\n",
       "    <tr>\n",
       "      <th>1</th>\n",
       "      <td>0.222560</td>\n",
       "      <td>11</td>\n",
       "      <td>6898255800</td>\n",
       "      <td>1.0</td>\n",
       "      <td>0.902327</td>\n",
       "      <td>0.428571</td>\n",
       "      <td>1.0</td>\n",
       "      <td>0</td>\n",
       "      <td>0</td>\n",
       "      <td>0</td>\n",
       "      <td>...</td>\n",
       "      <td>0.0</td>\n",
       "      <td>0.0</td>\n",
       "      <td>0.574861</td>\n",
       "      <td>0.707254</td>\n",
       "      <td>0.223281</td>\n",
       "      <td>0.416667</td>\n",
       "      <td>0.00</td>\n",
       "      <td>0.0</td>\n",
       "      <td>0.0</td>\n",
       "      <td>-0.546041</td>\n",
       "    </tr>\n",
       "    <tr>\n",
       "      <th>2</th>\n",
       "      <td>0.356608</td>\n",
       "      <td>11</td>\n",
       "      <td>6898270200</td>\n",
       "      <td>1.0</td>\n",
       "      <td>0.902327</td>\n",
       "      <td>0.428571</td>\n",
       "      <td>1.0</td>\n",
       "      <td>0</td>\n",
       "      <td>0</td>\n",
       "      <td>0</td>\n",
       "      <td>...</td>\n",
       "      <td>0.0</td>\n",
       "      <td>0.0</td>\n",
       "      <td>0.629131</td>\n",
       "      <td>0.723746</td>\n",
       "      <td>0.222629</td>\n",
       "      <td>0.416667</td>\n",
       "      <td>0.25</td>\n",
       "      <td>0.0</td>\n",
       "      <td>0.0</td>\n",
       "      <td>-0.884898</td>\n",
       "    </tr>\n",
       "    <tr>\n",
       "      <th>3</th>\n",
       "      <td>0.452837</td>\n",
       "      <td>11</td>\n",
       "      <td>6898284600</td>\n",
       "      <td>1.0</td>\n",
       "      <td>0.902327</td>\n",
       "      <td>0.428571</td>\n",
       "      <td>1.0</td>\n",
       "      <td>0</td>\n",
       "      <td>0</td>\n",
       "      <td>0</td>\n",
       "      <td>...</td>\n",
       "      <td>0.0</td>\n",
       "      <td>0.0</td>\n",
       "      <td>0.659814</td>\n",
       "      <td>0.726688</td>\n",
       "      <td>0.221953</td>\n",
       "      <td>0.458333</td>\n",
       "      <td>0.25</td>\n",
       "      <td>0.0</td>\n",
       "      <td>0.0</td>\n",
       "      <td>-0.025000</td>\n",
       "    </tr>\n",
       "    <tr>\n",
       "      <th>4</th>\n",
       "      <td>0.527957</td>\n",
       "      <td>11</td>\n",
       "      <td>6898299000</td>\n",
       "      <td>1.0</td>\n",
       "      <td>0.902327</td>\n",
       "      <td>0.428571</td>\n",
       "      <td>1.0</td>\n",
       "      <td>0</td>\n",
       "      <td>0</td>\n",
       "      <td>0</td>\n",
       "      <td>...</td>\n",
       "      <td>0.0</td>\n",
       "      <td>0.0</td>\n",
       "      <td>0.675701</td>\n",
       "      <td>0.699627</td>\n",
       "      <td>0.221464</td>\n",
       "      <td>0.458333</td>\n",
       "      <td>0.25</td>\n",
       "      <td>0.0</td>\n",
       "      <td>0.0</td>\n",
       "      <td>0.125000</td>\n",
       "    </tr>\n",
       "  </tbody>\n",
       "</table>\n",
       "<p>5 rows × 62 columns</p>\n",
       "</div>"
      ],
      "text/plain": [
       "       bloc  icustayid   charttime  gender       age  elixhauser  \\\n",
       "0  0.000000         11  6898241400     1.0  0.902327    0.428571   \n",
       "1  0.222560         11  6898255800     1.0  0.902327    0.428571   \n",
       "2  0.356608         11  6898270200     1.0  0.902327    0.428571   \n",
       "3  0.452837         11  6898284600     1.0  0.902327    0.428571   \n",
       "4  0.527957         11  6898299000     1.0  0.902327    0.428571   \n",
       "\n",
       "   re_admission  died_in_hosp  died_within_48h_of_out_time  mortality_90d  \\\n",
       "0           1.0             0                            0              0   \n",
       "1           1.0             0                            0              0   \n",
       "2           1.0             0                            0              0   \n",
       "3           1.0             0                            0              0   \n",
       "4           1.0             0                            0              0   \n",
       "\n",
       "   ...  input_total  input_4hourly  output_total  output_4hourly  \\\n",
       "0  ...          0.0            0.0      0.000000        0.000000   \n",
       "1  ...          0.0            0.0      0.574861        0.707254   \n",
       "2  ...          0.0            0.0      0.629131        0.723746   \n",
       "3  ...          0.0            0.0      0.659814        0.726688   \n",
       "4  ...          0.0            0.0      0.675701        0.699627   \n",
       "\n",
       "   cumulated_balance      SOFA  SIRS  vaso_input  iv_input    reward  \n",
       "0           0.223817  0.500000  0.00         0.0       0.0  0.383136  \n",
       "1           0.223281  0.416667  0.00         0.0       0.0 -0.546041  \n",
       "2           0.222629  0.416667  0.25         0.0       0.0 -0.884898  \n",
       "3           0.221953  0.458333  0.25         0.0       0.0 -0.025000  \n",
       "4           0.221464  0.458333  0.25         0.0       0.0  0.125000  \n",
       "\n",
       "[5 rows x 62 columns]"
      ]
     },
     "execution_count": 246,
     "metadata": {},
     "output_type": "execute_result"
    }
   ],
   "source": [
    "train_data.head()"
   ]
  },
  {
   "cell_type": "code",
   "execution_count": 247,
   "metadata": {},
   "outputs": [],
   "source": [
    "def preproc(df):\n",
    "    df_in = df.copy()\n",
    "    keep_arr = list(np.loadtxt('../data/state_features.txt', dtype=str))\n",
    "    keep_arr.append('iv_input')\n",
    "    keep_arr.append('vaso_input')\n",
    "    df_in = df_in[np.abs(df_in['reward']) >=10]\n",
    "    features = df_in[keep_arr].values\n",
    "    labels = df_in['reward'].values/15.0\n",
    "    labels[labels < 0] = 0\n",
    "    return features,labels"
   ]
  },
  {
   "cell_type": "code",
   "execution_count": 248,
   "metadata": {},
   "outputs": [],
   "source": [
    "def batch_sample(batch_size, features, labels):\n",
    "    idx = np.random.choice(np.arange(len(features)), batch_size, replace=False)\n",
    "    return (np.vstack(features[idx]), labels[idx])"
   ]
  },
  {
   "cell_type": "code",
   "execution_count": 249,
   "metadata": {},
   "outputs": [],
   "source": [
    "train_feat, train_labels = preproc(train_data)\n",
    "val_feat, val_labels = preproc(val_data)\n",
    "test_feat, test_labels = preproc(test_data)"
   ]
  },
  {
   "cell_type": "code",
   "execution_count": 250,
   "metadata": {},
   "outputs": [
    {
     "data": {
      "text/plain": [
       "(14671, 50)"
      ]
     },
     "execution_count": 250,
     "metadata": {},
     "output_type": "execute_result"
    }
   ],
   "source": [
    "train_feat.shape"
   ]
  },
  {
   "cell_type": "code",
   "execution_count": 251,
   "metadata": {},
   "outputs": [
    {
     "data": {
      "text/plain": [
       "LogisticRegression(max_iter=200, solver='liblinear')"
      ]
     },
     "execution_count": 251,
     "metadata": {},
     "output_type": "execute_result"
    }
   ],
   "source": [
    "from sklearn.linear_model import LogisticRegression\n",
    "clf = LogisticRegression(max_iter=200,solver='liblinear')\n",
    "clf.fit(train_feat, train_labels)"
   ]
  },
  {
   "cell_type": "code",
   "execution_count": null,
   "metadata": {},
   "outputs": [],
   "source": []
  },
  {
   "cell_type": "code",
   "execution_count": 252,
   "metadata": {},
   "outputs": [],
   "source": [
    "# for each state: if not terminal, deterministically get reward. if terminal, use clf to predict outcome,\n",
    "# and estimated reward = 15 * outcome\n"
   ]
  },
  {
   "cell_type": "code",
   "execution_count": 253,
   "metadata": {},
   "outputs": [],
   "source": [
    "feat_names = list(np.loadtxt('../data/state_features.txt', dtype=str))"
   ]
  },
  {
   "cell_type": "code",
   "execution_count": 254,
   "metadata": {},
   "outputs": [],
   "source": [
    "envmodel_save_dir = './env_model_regression/'\n",
    "est_state_val = pickle.load(open( envmodel_save_dir + \"est_next_states_val.p\", \"rb\" ))\n",
    "est_state_test =  pickle.load(open( envmodel_save_dir + \"est_next_states_test.p\", \"rb\" ))"
   ]
  },
  {
   "cell_type": "code",
   "execution_count": 255,
   "metadata": {},
   "outputs": [],
   "source": [
    "est_state_val = np.vstack(est_state_val)\n",
    "est_state_test = np.vstack(est_state_test)"
   ]
  },
  {
   "cell_type": "code",
   "execution_count": 256,
   "metadata": {},
   "outputs": [
    {
     "data": {
      "text/plain": [
       "(27813, 48)"
      ]
     },
     "execution_count": 256,
     "metadata": {},
     "output_type": "execute_result"
    }
   ],
   "source": [
    "est_state_val.shape"
   ]
  },
  {
   "cell_type": "code",
   "execution_count": 257,
   "metadata": {},
   "outputs": [],
   "source": [
    "# Get the relevant fields from the estimated next states\n",
    "lact_index = feat_names.index('Arterial_lactate')\n",
    "sofa_index = feat_names.index('SOFA')\n",
    "\n",
    "val_data['est_lactate'] = est_state_val[:, lact_index]\n",
    "val_data['est_sofa'] = est_state_val[:, sofa_index]\n",
    "\n",
    "test_data['est_lactate'] = est_state_test[:, lact_index]\n",
    "test_data['est_sofa'] = est_state_test[: , sofa_index]"
   ]
  },
  {
   "cell_type": "code",
   "execution_count": 258,
   "metadata": {},
   "outputs": [
    {
     "name": "stdout",
     "output_type": "stream",
     "text": [
      "6.289113193943764 3.488883976030776 2.051803343660675 1.6982470951614559\n"
     ]
    }
   ],
   "source": [
    "# undo the scaling on the next state prediction in order to calculate the reward\n",
    "# unscaled = std_dev*(min_max_normalised*(max_norm - min_norm)) + mean\n",
    "\n",
    "df_orig = pd.read_csv('../data/discretised_input_data.csv')\n",
    "df_orig_train = df_orig.loc[df_orig['icustayid'].isin(train_data['icustayid'])]\n",
    "\n",
    "sofa_mean = df_orig_train['SOFA'].mean()\n",
    "sofa_std = df_orig_train['SOFA'].std()\n",
    "lact_mean = df_orig_train['Arterial_lactate'].mean()\n",
    "lact_std = df_orig_train['Arterial_lactate'].std()\n",
    "print(sofa_mean,sofa_std,lact_mean,lact_std)\n",
    "norm_sofa = (df_orig_train['SOFA'] - sofa_mean)/sofa_std\n",
    "norm_lact = (df_orig_train['Arterial_lactate']-lact_mean)/lact_std\n",
    "\n",
    "min_norm_sofa = min(norm_sofa)\n",
    "max_norm_sofa = max(norm_sofa)\n",
    "\n",
    "min_norm_lact = min(norm_lact)\n",
    "max_norm_lact = max(norm_lact)\n",
    "\n",
    "min_max_norm_sofa = (norm_sofa - min_norm_sofa)/(max_norm_sofa-min_norm_sofa)\n",
    "min_max_norm_lact = (norm_lact - min_norm_lact)/(max_norm_lact-min_norm_lact)"
   ]
  },
  {
   "cell_type": "code",
   "execution_count": 259,
   "metadata": {},
   "outputs": [],
   "source": [
    "# Add in the agent actions to both the validation and test dataframes\n",
    "agent_actions_test = pickle.load(open('../continuous/dqn_normalT/dqn_normal_actions_test.p', \"rb\" ))\n",
    "agent_actions_val = pickle.load(open('../continuous/dqn_normalT/dqn_normal_actions_val.p', \"rb\" ))"
   ]
  },
  {
   "cell_type": "code",
   "execution_count": 260,
   "metadata": {},
   "outputs": [],
   "source": [
    "# unpack the actions into tuples of (iv,vaso)\n",
    "inv_action_map = {}\n",
    "count = 0\n",
    "for i in range(5):\n",
    "    for j in range(5):\n",
    "        inv_action_map[count] = [i,j]\n",
    "        count += 1"
   ]
  },
  {
   "cell_type": "code",
   "execution_count": 261,
   "metadata": {},
   "outputs": [],
   "source": [
    "# unpack the actions into tuples of (iv,vaso)\n",
    "test_actions_arr = np.array([inv_action_map[i] for i in agent_actions_test])\n",
    "val_actions_arr = np.array([inv_action_map[i] for i in agent_actions_val])"
   ]
  },
  {
   "cell_type": "code",
   "execution_count": 262,
   "metadata": {},
   "outputs": [],
   "source": [
    "val_data['agent_iv'] = val_actions_arr[:,0]\n",
    "val_data['agent_vaso'] = val_actions_arr[:,1]\n",
    "\n",
    "test_data['agent_iv'] = test_actions_arr[:,0]\n",
    "test_data['agent_vaso'] = test_actions_arr[:,1]"
   ]
  },
  {
   "cell_type": "code",
   "execution_count": 285,
   "metadata": {},
   "outputs": [],
   "source": [
    "# Run the reward estimator\n",
    "# Some constants taken from preproc/new_rewards:\n",
    "c0 = -0.1/4\n",
    "c1 = -0.5/4\n",
    "c2 = -2\n",
    "clf_features = list(np.loadtxt('../data/state_features.txt', dtype=str))\n",
    "clf_features.append('agent_iv')\n",
    "clf_features.append('agent_vaso')\n",
    "acc = []\n",
    "\n",
    "def reward_estimator(df):\n",
    "    df['unscaled_sofa_now'] = sofa_std*(df['SOFA']*(max_norm_sofa - min_norm_sofa) + min_norm_sofa) + sofa_mean\n",
    "    df['unscaled_sofa_next'] = sofa_std*(df['est_sofa']*(max_norm_sofa - min_norm_sofa) + min_norm_sofa) + sofa_mean\n",
    "\n",
    "    df['unscaled_lact_now'] = lact_std*(df['Arterial_lactate']*(max_norm_lact - min_norm_lact) + min_norm_lact) + lact_mean\n",
    "    df['unscaled_lact_next'] = lact_std*(df['est_lactate']*(max_norm_lact - min_norm_lact) + min_norm_lact) + lact_mean\n",
    "    rewards = []\n",
    "    for count,i in enumerate(df.index):\n",
    "        if count == len(df) - 1 or df.loc[i, 'icustayid'] != df.loc[df.index[count+1], 'icustayid']:\n",
    "            feat = df.loc[i,clf_features].values\n",
    "            feat = feat.reshape(1,-1)\n",
    "            est_outcome = clf.predict(feat)\n",
    "            acc.append(est_outcome)\n",
    "            try:\n",
    "                if est_outcome == 0:\n",
    "                    rewards.append(-15)\n",
    "                else:\n",
    "                    rewards.append(15)\n",
    "            except ValueError:\n",
    "                print (est_outcome)\n",
    "                print (len(est_outcome))\n",
    "                raise\n",
    "        else:\n",
    "            lact_now = df.loc[i, 'unscaled_lact_now']\n",
    "            sofa_now = df.loc[i, 'unscaled_sofa_now']\n",
    "            lact_next = df.loc[i, 'unscaled_lact_next']\n",
    "            sofa_next = df.loc[i, 'unscaled_sofa_next']\n",
    "            reward = 0\n",
    "            if sofa_next == sofa_now and sofa_next != 0:\n",
    "                reward += c0\n",
    "            reward += c1*(sofa_next-sofa_now)\n",
    "            reward += c2*np.tanh(lact_next - lact_now)\n",
    "            rewards.append(reward)\n",
    "    return np.array(rewards)"
   ]
  },
  {
   "cell_type": "code",
   "execution_count": 286,
   "metadata": {},
   "outputs": [],
   "source": [
    "test_rewards = reward_estimator(test_data)"
   ]
  },
  {
   "cell_type": "code",
   "execution_count": 287,
   "metadata": {},
   "outputs": [],
   "source": [
    "# sum =0\n",
    "# for i in range(len(val_labels)):\n",
    "#     if np.array(acc)[i] ==test_labels[i]:\n",
    "#         sum+=1\n",
    "# print(sum/len(test_labels))"
   ]
  },
  {
   "cell_type": "code",
   "execution_count": 288,
   "metadata": {},
   "outputs": [
    {
     "data": {
      "text/html": [
       "<div>\n",
       "<style scoped>\n",
       "    .dataframe tbody tr th:only-of-type {\n",
       "        vertical-align: middle;\n",
       "    }\n",
       "\n",
       "    .dataframe tbody tr th {\n",
       "        vertical-align: top;\n",
       "    }\n",
       "\n",
       "    .dataframe thead th {\n",
       "        text-align: right;\n",
       "    }\n",
       "</style>\n",
       "<table border=\"1\" class=\"dataframe\">\n",
       "  <thead>\n",
       "    <tr style=\"text-align: right;\">\n",
       "      <th></th>\n",
       "      <th>bloc</th>\n",
       "      <th>icustayid</th>\n",
       "      <th>charttime</th>\n",
       "      <th>gender</th>\n",
       "      <th>age</th>\n",
       "      <th>elixhauser</th>\n",
       "      <th>re_admission</th>\n",
       "      <th>died_in_hosp</th>\n",
       "      <th>died_within_48h_of_out_time</th>\n",
       "      <th>mortality_90d</th>\n",
       "      <th>...</th>\n",
       "      <th>iv_input</th>\n",
       "      <th>reward</th>\n",
       "      <th>est_lactate</th>\n",
       "      <th>est_sofa</th>\n",
       "      <th>agent_iv</th>\n",
       "      <th>agent_vaso</th>\n",
       "      <th>unscaled_sofa_now</th>\n",
       "      <th>unscaled_sofa_next</th>\n",
       "      <th>unscaled_lact_now</th>\n",
       "      <th>unscaled_lact_next</th>\n",
       "    </tr>\n",
       "  </thead>\n",
       "  <tbody>\n",
       "    <tr>\n",
       "      <th>0</th>\n",
       "      <td>0.000000</td>\n",
       "      <td>3</td>\n",
       "      <td>7245486000</td>\n",
       "      <td>0.0</td>\n",
       "      <td>0.412568</td>\n",
       "      <td>0.0</td>\n",
       "      <td>0.0</td>\n",
       "      <td>0</td>\n",
       "      <td>0</td>\n",
       "      <td>1</td>\n",
       "      <td>...</td>\n",
       "      <td>2.0</td>\n",
       "      <td>-1.349270</td>\n",
       "      <td>0.055830</td>\n",
       "      <td>0.136176</td>\n",
       "      <td>1</td>\n",
       "      <td>0</td>\n",
       "      <td>3.0</td>\n",
       "      <td>3.268225</td>\n",
       "      <td>1.180000</td>\n",
       "      <td>1.635808</td>\n",
       "    </tr>\n",
       "    <tr>\n",
       "      <th>1</th>\n",
       "      <td>0.222560</td>\n",
       "      <td>3</td>\n",
       "      <td>7245500400</td>\n",
       "      <td>0.0</td>\n",
       "      <td>0.412568</td>\n",
       "      <td>0.0</td>\n",
       "      <td>0.0</td>\n",
       "      <td>0</td>\n",
       "      <td>0</td>\n",
       "      <td>1</td>\n",
       "      <td>...</td>\n",
       "      <td>2.0</td>\n",
       "      <td>1.640796</td>\n",
       "      <td>0.063470</td>\n",
       "      <td>0.263395</td>\n",
       "      <td>1</td>\n",
       "      <td>0</td>\n",
       "      <td>7.0</td>\n",
       "      <td>6.321482</td>\n",
       "      <td>1.633333</td>\n",
       "      <td>1.859663</td>\n",
       "    </tr>\n",
       "    <tr>\n",
       "      <th>2</th>\n",
       "      <td>0.356608</td>\n",
       "      <td>3</td>\n",
       "      <td>7245514800</td>\n",
       "      <td>0.0</td>\n",
       "      <td>0.412568</td>\n",
       "      <td>0.0</td>\n",
       "      <td>0.0</td>\n",
       "      <td>0</td>\n",
       "      <td>0</td>\n",
       "      <td>1</td>\n",
       "      <td>...</td>\n",
       "      <td>2.0</td>\n",
       "      <td>-0.025000</td>\n",
       "      <td>0.054041</td>\n",
       "      <td>0.184210</td>\n",
       "      <td>3</td>\n",
       "      <td>0</td>\n",
       "      <td>5.0</td>\n",
       "      <td>4.421038</td>\n",
       "      <td>0.775000</td>\n",
       "      <td>1.583412</td>\n",
       "    </tr>\n",
       "    <tr>\n",
       "      <th>3</th>\n",
       "      <td>0.452837</td>\n",
       "      <td>3</td>\n",
       "      <td>7245529200</td>\n",
       "      <td>0.0</td>\n",
       "      <td>0.412568</td>\n",
       "      <td>0.0</td>\n",
       "      <td>0.0</td>\n",
       "      <td>0</td>\n",
       "      <td>0</td>\n",
       "      <td>1</td>\n",
       "      <td>...</td>\n",
       "      <td>2.0</td>\n",
       "      <td>-0.025000</td>\n",
       "      <td>0.054900</td>\n",
       "      <td>0.184409</td>\n",
       "      <td>3</td>\n",
       "      <td>0</td>\n",
       "      <td>5.0</td>\n",
       "      <td>4.425819</td>\n",
       "      <td>0.775000</td>\n",
       "      <td>1.608580</td>\n",
       "    </tr>\n",
       "    <tr>\n",
       "      <th>4</th>\n",
       "      <td>0.527957</td>\n",
       "      <td>3</td>\n",
       "      <td>7245543600</td>\n",
       "      <td>0.0</td>\n",
       "      <td>0.412568</td>\n",
       "      <td>0.0</td>\n",
       "      <td>0.0</td>\n",
       "      <td>0</td>\n",
       "      <td>0</td>\n",
       "      <td>1</td>\n",
       "      <td>...</td>\n",
       "      <td>2.0</td>\n",
       "      <td>-0.025000</td>\n",
       "      <td>0.054422</td>\n",
       "      <td>0.187244</td>\n",
       "      <td>3</td>\n",
       "      <td>0</td>\n",
       "      <td>5.0</td>\n",
       "      <td>4.493850</td>\n",
       "      <td>0.775000</td>\n",
       "      <td>1.594555</td>\n",
       "    </tr>\n",
       "  </tbody>\n",
       "</table>\n",
       "<p>5 rows × 70 columns</p>\n",
       "</div>"
      ],
      "text/plain": [
       "       bloc  icustayid   charttime  gender       age  elixhauser  \\\n",
       "0  0.000000          3  7245486000     0.0  0.412568         0.0   \n",
       "1  0.222560          3  7245500400     0.0  0.412568         0.0   \n",
       "2  0.356608          3  7245514800     0.0  0.412568         0.0   \n",
       "3  0.452837          3  7245529200     0.0  0.412568         0.0   \n",
       "4  0.527957          3  7245543600     0.0  0.412568         0.0   \n",
       "\n",
       "   re_admission  died_in_hosp  died_within_48h_of_out_time  mortality_90d  \\\n",
       "0           0.0             0                            0              1   \n",
       "1           0.0             0                            0              1   \n",
       "2           0.0             0                            0              1   \n",
       "3           0.0             0                            0              1   \n",
       "4           0.0             0                            0              1   \n",
       "\n",
       "   ...  iv_input    reward  est_lactate  est_sofa  agent_iv  agent_vaso  \\\n",
       "0  ...       2.0 -1.349270     0.055830  0.136176         1           0   \n",
       "1  ...       2.0  1.640796     0.063470  0.263395         1           0   \n",
       "2  ...       2.0 -0.025000     0.054041  0.184210         3           0   \n",
       "3  ...       2.0 -0.025000     0.054900  0.184409         3           0   \n",
       "4  ...       2.0 -0.025000     0.054422  0.187244         3           0   \n",
       "\n",
       "   unscaled_sofa_now  unscaled_sofa_next  unscaled_lact_now  \\\n",
       "0                3.0            3.268225           1.180000   \n",
       "1                7.0            6.321482           1.633333   \n",
       "2                5.0            4.421038           0.775000   \n",
       "3                5.0            4.425819           0.775000   \n",
       "4                5.0            4.493850           0.775000   \n",
       "\n",
       "   unscaled_lact_next  \n",
       "0            1.635808  \n",
       "1            1.859663  \n",
       "2            1.583412  \n",
       "3            1.608580  \n",
       "4            1.594555  \n",
       "\n",
       "[5 rows x 70 columns]"
      ]
     },
     "execution_count": 288,
     "metadata": {},
     "output_type": "execute_result"
    }
   ],
   "source": [
    "test_data.head()"
   ]
  },
  {
   "cell_type": "code",
   "execution_count": 289,
   "metadata": {},
   "outputs": [
    {
     "data": {
      "text/plain": [
       "[<matplotlib.lines.Line2D at 0x26549f73408>]"
      ]
     },
     "execution_count": 289,
     "metadata": {},
     "output_type": "execute_result"
    },
    {
     "data": {
      "image/png": "[encoded data removed]",
      "text/plain": [
       "<Figure size 288x288 with 1 Axes>"
      ]
     },
     "metadata": {
      "needs_background": "light"
     },
     "output_type": "display_data"
    }
   ],
   "source": [
    "import matplotlib.pyplot as plt\n",
    "fig = plt.figure(figsize=(4,4))\n",
    "ax = fig.add_subplot(1, 1, 1)\n",
    "d1 = test_data['unscaled_sofa_now'][141:151]\n",
    "d2 = test_data['unscaled_sofa_next'][140:150]\n",
    "ax.plot(d1, linewidth = 0.5,label='SAC+AE')  # 画x-y的值，颜色红 olive goldenrod\n",
    "ax.plot(d2, linewidth = 0.5, label='QHM+CURL(ours)')  # 画x-y的值，颜色红 olive goldenrod"
   ]
  },
  {
   "cell_type": "code",
   "execution_count": 290,
   "metadata": {},
   "outputs": [],
   "source": [
    "val_rewards = reward_estimator(val_data)\n"
   ]
  },
  {
   "cell_type": "code",
   "execution_count": 291,
   "metadata": {},
   "outputs": [],
   "source": [
    "with open(r\"val_rewards.p\", \"wb\") as f:\n",
    "    pickle.dump(val_rewards, f)"
   ]
  },
  {
   "cell_type": "code",
   "execution_count": 292,
   "metadata": {},
   "outputs": [],
   "source": [
    "with open(r\"test_rewards.p\", \"wb\") as f:\n",
    "    pickle.dump(test_rewards, f)"
   ]
  },
  {
   "cell_type": "code",
   "execution_count": null,
   "metadata": {},
   "outputs": [],
   "source": []
  },
  {
   "cell_type": "code",
   "execution_count": null,
   "metadata": {},
   "outputs": [],
   "source": []
  }
 ],
 "metadata": {
  "kernelspec": {
   "display_name": "Python 3 (ipykernel)",
   "language": "python",
   "name": "python3"
  },
  "language_info": {
   "codemirror_mode": {
    "name": "ipython",
    "version": 3
   },
   "file_extension": ".py",
   "mimetype": "text/x-python",
   "name": "python",
   "nbconvert_exporter": "python",
   "pygments_lexer": "ipython3",
   "version": "3.7.10"
  }
 },
 "nbformat": 4,
 "nbformat_minor": 2
}
